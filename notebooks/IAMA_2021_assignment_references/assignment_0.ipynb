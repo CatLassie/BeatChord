{
 "cells": [
  {
   "cell_type": "markdown",
   "metadata": {
    "nbgrader": {
     "grade": false,
     "grade_id": "cell-881bbc22e95e7602",
     "locked": true,
     "schema_version": 3,
     "solution": false,
     "task": false
    }
   },
   "source": [
    "\n",
    "# Intelligent Audio and Music Analysis Assignment 0\n",
    "\n",
    "The main purpose of this assignment is to get you familiarized with the server and python infrastructure and workflow.  \n",
    "\n",
    "## Task 1: Import numpy\n",
    "\n",
    "Load the python math library [numpy](https://numpy.org/doc/stable/) into namespace variable `np`."
   ]
  },
  {
   "cell_type": "code",
   "execution_count": 1,
   "metadata": {
    "nbgrader": {
     "grade": false,
     "grade_id": "import_numpy",
     "locked": false,
     "schema_version": 3,
     "solution": true,
     "task": false
    }
   },
   "outputs": [],
   "source": [
    "# load the python math library numpy into a local namespace variable called \"np\"\n",
    "# this is achieved using the import <lib> as <name> syntax\n",
    "\n",
    "### BEGIN SOLUTION\n",
    "import numpy as np\n",
    "### END SOLUTION"
   ]
  },
  {
   "cell_type": "code",
   "execution_count": 2,
   "metadata": {
    "nbgrader": {
     "grade": true,
     "grade_id": "import_numpy_test",
     "locked": true,
     "points": 1,
     "schema_version": 3,
     "solution": false,
     "task": false
    }
   },
   "outputs": [
    {
     "name": "stdout",
     "output_type": "stream",
     "text": [
      "All tests successful!\n"
     ]
    }
   ],
   "source": [
    "# test if numpy has been loaded successfully\n",
    "\n",
    "np.version.version\n",
    "print('All tests successful!')"
   ]
  },
  {
   "cell_type": "markdown",
   "metadata": {
    "nbgrader": {
     "grade": false,
     "grade_id": "cell-4d05f58f0aa443fa",
     "locked": true,
     "schema_version": 3,
     "solution": false,
     "task": false
    }
   },
   "source": [
    "## Task 2: Create a Matrix\n",
    "\n",
    "Create a matrix ([ndarray](https://numpy.org/doc/stable/reference/generated/numpy.ndarray.html)) `x` of random numbers \n",
    "with size 4x4."
   ]
  },
  {
   "cell_type": "code",
   "execution_count": 3,
   "metadata": {
    "nbgrader": {
     "grade": false,
     "grade_id": "rand_x",
     "locked": false,
     "schema_version": 3,
     "solution": true,
     "task": false
    }
   },
   "outputs": [
    {
     "name": "stdout",
     "output_type": "stream",
     "text": [
      "x = [[0.02914997 0.46028399 0.84311286 0.49864209]\n",
      " [0.15219914 0.61744741 0.6310644  0.8592101 ]\n",
      " [0.06761009 0.20346184 0.67215242 0.30664995]\n",
      " [0.86186699 0.57687905 0.42342323 0.59758039]]\n"
     ]
    }
   ],
   "source": [
    "# numpy has a module called \"random\", use the rand function. \n",
    "# See documentation at: \n",
    "# https://numpy.org/doc/stable/reference/random/generated/numpy.random.rand.html\n",
    "\n",
    "### BEGIN SOLUTION\n",
    "x = np.random.rand(4, 4)\n",
    "### END SOLUTION\n",
    "\n",
    "print(\"x = {}\".format(x))"
   ]
  },
  {
   "cell_type": "code",
   "execution_count": 4,
   "metadata": {
    "nbgrader": {
     "grade": true,
     "grade_id": "rand_x_test",
     "locked": true,
     "points": 1,
     "schema_version": 3,
     "solution": false,
     "task": false
    }
   },
   "outputs": [
    {
     "name": "stdout",
     "output_type": "stream",
     "text": [
      "All tests successful!\n"
     ]
    }
   ],
   "source": [
    "# test x for properties:\n",
    "\n",
    "assert x.shape == (4, 4)\n",
    "assert all([0 <= ex <= 1 for ex in x.flatten()])\n",
    "### BEGIN HIDDEN TESTS\n",
    "assert all([x.flatten()[idx1] != x.flatten()[idx2] for idx1 in range(4*4-1) for idx2 in range(idx1+1, 4*4)])\n",
    "### END HIDDEN TESTS\n",
    "print('All tests successful!')"
   ]
  },
  {
   "cell_type": "code",
   "execution_count": 5,
   "metadata": {
    "nbgrader": {
     "grade": true,
     "grade_id": "rand_x_test_exc",
     "locked": true,
     "points": 1,
     "schema_version": 3,
     "solution": false,
     "task": false
    }
   },
   "outputs": [
    {
     "name": "stdout",
     "output_type": "stream",
     "text": [
      "All tests successful!\n"
     ]
    }
   ],
   "source": [
    "# test for exception: \n",
    "\n",
    "try:\n",
    "    x[10, 10]\n",
    "except IndexError:\n",
    "    pass\n",
    "else:       \n",
    "    raise AssertionError('did not raise ValueError')\n",
    "print('All tests successful!')"
   ]
  },
  {
   "cell_type": "markdown",
   "metadata": {
    "nbgrader": {
     "grade": false,
     "grade_id": "cell-d03a143fb8635f5c",
     "locked": true,
     "schema_version": 3,
     "solution": false,
     "task": false
    }
   },
   "source": [
    "## Task 3: Elementwise Matrix Operations\n",
    "Calculate the *elementwise* square of `x` into a new variable named `y`."
   ]
  },
  {
   "cell_type": "code",
   "execution_count": 6,
   "metadata": {
    "nbgrader": {
     "grade": false,
     "grade_id": "x_mult",
     "locked": false,
     "schema_version": 3,
     "solution": true,
     "task": false
    }
   },
   "outputs": [],
   "source": [
    "# Arrays can be used as matrices, thus we can choose between matrix multiplication and elementwise multiplication.\n",
    "# https://numpy.org/doc/stable/reference/generated/numpy.matmul.html\n",
    "# https://numpy.org/doc/stable/reference/generated/numpy.multiply.html\n",
    "\n",
    "### BEGIN SOLUTION\n",
    "y = np.multiply(x, x)\n",
    "### END SOLUTION"
   ]
  },
  {
   "cell_type": "code",
   "execution_count": 7,
   "metadata": {
    "nbgrader": {
     "grade": true,
     "grade_id": "x_mult_test",
     "locked": true,
     "points": 1,
     "schema_version": 3,
     "solution": false,
     "task": false
    }
   },
   "outputs": [
    {
     "name": "stdout",
     "output_type": "stream",
     "text": [
      "All tests successful!\n"
     ]
    }
   ],
   "source": [
    "# Test shape of y\n",
    "# Note: for full points, values of y must also be correct.\n",
    "\n",
    "assert y.shape == (4, 4)\n",
    "\n",
    "### BEGIN HIDDEN TESTS\n",
    "assert np.all(y == np.multiply(x, x))\n",
    "### END HIDDEN TESTS\n",
    "print('All tests successful!')"
   ]
  },
  {
   "cell_type": "markdown",
   "metadata": {
    "nbgrader": {
     "grade": false,
     "grade_id": "cell-6a30172f9991f705",
     "locked": true,
     "schema_version": 3,
     "solution": false,
     "task": false
    }
   },
   "source": [
    "## Task 4: Freeform Answers\n",
    "\n",
    "Sometimes you will find questions that require a textual answer. Use the markdown input field below to submit your answer.\n",
    " \n",
    "Answer the following question:\n",
    "\n",
    "**What is your background or experience with (Python) programming, audio processing, and machine learning?**"
   ]
  },
  {
   "cell_type": "markdown",
   "metadata": {},
   "source": []
  }
 ],
 "metadata": {
  "celltoolbar": "Create Assignment",
  "kernelspec": {
   "display_name": "Python 3",
   "language": "python",
   "name": "python3"
  },
  "language_info": {
   "codemirror_mode": {
    "name": "ipython",
    "version": 3
   },
   "file_extension": ".py",
   "mimetype": "text/x-python",
   "name": "python",
   "nbconvert_exporter": "python",
   "pygments_lexer": "ipython3",
   "version": "3.9.7"
  }
 },
 "nbformat": 4,
 "nbformat_minor": 2
}
