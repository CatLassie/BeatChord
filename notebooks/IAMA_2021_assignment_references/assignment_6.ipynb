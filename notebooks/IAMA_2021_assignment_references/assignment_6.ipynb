{
 "cells": [
  {
   "cell_type": "markdown",
   "metadata": {
    "nbgrader": {
     "grade": false,
     "grade_id": "cell-af22af3c51ef2859",
     "locked": true,
     "schema_version": 3,
     "solution": false,
     "task": false
    }
   },
   "source": [
    "# Intelligent Audio and Music Analysis Assignment 6\n",
    "\n",
    "This assignment accounts for 50 points of the 3rd and last assignment block (100 points total)\n",
    "\n",
    "Assignment 6 and 7 are more free form than the previous assignments. The goal is to apply what has been practiced so far. For implementing assignments 6 and 7, follow the code structures from previous assignments and reuse as much code as possible. You can use any libraries, we recommend madmom, librosa, pyTorch, etc. (the libraries we have used so far).\n",
    "\n",
    "## Semantic Music Tagging\n",
    "\n",
    "Following the approach by [Choi et al. \\[2016\\]](https://arxiv.org/pdf/1606.00298.pdf) “Automatic Tagging Using Deep Convolutional Neural Networks”, a CNN architecture shall be implemented to predict semantic categories for short clips of music pieces. As suggested, for experiments, the MagnaTagATune dataset will be used.\n",
    "\n",
    "\n",
    "\n",
    "### GPU Support\n",
    "Our JupyterHub, unfortunately, does not yet provide GPU support. Nevertheless, this assignment can be run as-is on JupyterHub, however training of the neural network will take even longer than last time.\n",
    "\n",
    "In order to speed up training if you are in a hurry, you can run this notebook on any local machine with GPU and cuda support, or alternatively use infrastructure like [google colab](https://colab.research.google.com/) and drive, if you have a google account.\n",
    "\n",
    "Simply upload your solved notebook and output model file back to JupyterHub for your submission."
   ]
  },
  {
   "cell_type": "code",
   "execution_count": 1,
   "metadata": {
    "nbgrader": {
     "grade": false,
     "grade_id": "cell-a7ed23be263a52e5",
     "locked": true,
     "schema_version": 3,
     "solution": false,
     "task": false
    }
   },
   "outputs": [
    {
     "name": "stdout",
     "output_type": "stream",
     "text": [
      "=======================\n",
      "NOT running in colab...\n",
      "=======================\n"
     ]
    }
   ],
   "source": [
    "import os\n",
    "# This code block enables this notebook to run on google colab.\n",
    "try:\n",
    "    from google.colab import drive\n",
    "    print('Running in colab...\\n===================')\n",
    "    COLAB = True\n",
    "    !pip install madmom librosa # torch==1.4.0 torchvision==0.5.0 --upgrade\n",
    "    print('Installed dependencies!\\n=======================')\n",
    "\n",
    "    if not os.path.exists('audio'):\n",
    "        print('Downloading data...\\n===================')\n",
    "        !wget http://mi.soi.city.ac.uk/datasets/magnatagatune/clip_info_final.csv\n",
    "        !wget http://mi.soi.city.ac.uk/datasets/magnatagatune/annotations_final.csv\n",
    "        !wget http://mi.soi.city.ac.uk/datasets/magnatagatune/mp3.zip.001\n",
    "        !wget http://mi.soi.city.ac.uk/datasets/magnatagatune/mp3.zip.002\n",
    "        !wget http://mi.soi.city.ac.uk/datasets/magnatagatune/mp3.zip.003\n",
    "        !cat mp3.zip.* > mp3.zip\n",
    "        !mkdir audio\n",
    "        !unzip mp3.zip -d audio\n",
    "        !rm mp3.zip.*\n",
    "        \n",
    "        # optionally download cached features\n",
    "        !mkdir cache\n",
    "        !wget -O cache/feat_cache.npy \"http://www.ifs.tuwien.ac.at/~vogl/other/feat_cache.npy\"\n",
    "        !wget -O cache/name_cache.npy \"http://www.ifs.tuwien.ac.at/~vogl/other/name_cache.npy\"\n",
    "\n",
    "    print('===================\\nMake sure you activated GPU support: Edit->Notebook settings->Hardware acceleration->GPU\\n==================')\n",
    "except:\n",
    "    print('=======================\\nNOT running in colab...\\n=======================')\n",
    "    COLAB = False"
   ]
  },
  {
   "cell_type": "markdown",
   "metadata": {
    "nbgrader": {
     "grade": false,
     "grade_id": "cell-fe37cd78135067a7",
     "locked": true,
     "schema_version": 3,
     "solution": false,
     "task": false
    }
   },
   "source": [
    "## Task 1: Dataset Preparation (20 Points)\n",
    "\n",
    "From the MagnaTagATune dataset Website, use the clip metadata, the zag\n",
    "annotations, and the audio data files. To save storage on the cluster, we already downloaded the files into the shared folder at: `~/shared/data/assignment_6/`\n",
    "\n",
    "Next, prepare the data in a way that allows to train a neural network and test performance:\n",
    "1. Extract features for the audio files (logarithmic mel-frequency spectrograms).\n",
    "2. Generating a training/validation/test split using the provided split definitions (Important: Use the information given in the clip metadata file to ensure that no clips extracted from the same track end up in different splits).\n",
    "3. Filter the tags such that only the 50 most frequent tags in the dataset remain."
   ]
  },
  {
   "cell_type": "code",
   "execution_count": 2,
   "metadata": {
    "nbgrader": {
     "grade": false,
     "grade_id": "cell-23e77a30691832c8",
     "locked": true,
     "schema_version": 3,
     "solution": false,
     "task": false
    }
   },
   "outputs": [
    {
     "name": "stdout",
     "output_type": "stream",
     "text": [
      "Total number of audio files: 25862\n"
     ]
    }
   ],
   "source": [
    "import os\n",
    "import numpy as np\n",
    "\n",
    "# get dataset path\n",
    "dataset_path = os.path.join(os.environ['HOME'], 'shared', 'data', 'assignment_6')\n",
    "if os.path.exists('audio'):\n",
    "    dataset_path = '.'\n",
    "\n",
    "audio_path = os.path.join(dataset_path, 'audio')\n",
    "cache_path = os.path.join(dataset_path, 'cache')\n",
    "\n",
    "data_file_clip_info = os.path.join(dataset_path, 'clip_info_final.csv')\n",
    "data_file_annotations = os.path.join(dataset_path, 'annotations_final.csv')\n",
    "\n",
    "# collect list of audio files:\n",
    "sub_paths = os.listdir(audio_path)\n",
    "audio_file_paths = []\n",
    "for sub_path in sub_paths:\n",
    "    cur_path = os.path.join(audio_path, sub_path)\n",
    "    if not os.path.isdir(cur_path):\n",
    "        continue\n",
    "    audio_files = [af for af in os.listdir(cur_path) if af.endswith('.mp3')]\n",
    "    audio_file_paths.extend([os.path.join(audio_path, sub_path, af) for af in audio_files])\n",
    "\n",
    "audio_file_total_count = len(audio_file_paths)\n",
    "\n",
    "print(f'Total number of audio files: {audio_file_total_count}')"
   ]
  },
  {
   "cell_type": "markdown",
   "metadata": {
    "nbgrader": {
     "grade": false,
     "grade_id": "cell-d92c736eab25f84c",
     "locked": true,
     "schema_version": 3,
     "solution": false,
     "task": false
    }
   },
   "source": [
    "### 1.1 Feature Extraction\n",
    "\n",
    "Iterate over the audio files and extract log mel-frequency spectrograms. You can use madmom or librose, and are free to copy your code from previous assignments. Make sure to use the provided variables, in order for the automated tests to pass.\n",
    "\n",
    "Since we are interested in global properties, Choi et al. \\[2016\\] uses parameters that result in a more coarse spectrogram. Additionally all audio files are in the dataset should have the common length of 29.1s, which results in feature matrices with a fixed shape."
   ]
  },
  {
   "cell_type": "code",
   "execution_count": 3,
   "metadata": {
    "nbgrader": {
     "grade": false,
     "grade_id": "cell-ecddd1ca43d6c819",
     "locked": true,
     "schema_version": 3,
     "solution": false,
     "task": false
    }
   },
   "outputs": [],
   "source": [
    "audio_len = 29.124\n",
    "sample_rate = 12000\n",
    "fft_frame_size = 512\n",
    "num_mel_bands = 96\n",
    "hop_size = 256\n",
    "\n",
    "exp_feat_shape = (96, 1366)"
   ]
  },
  {
   "cell_type": "markdown",
   "metadata": {
    "nbgrader": {
     "grade": false,
     "grade_id": "cell-84d189277e6b8b1b",
     "locked": true,
     "schema_version": 3,
     "solution": false,
     "task": false
    }
   },
   "source": [
    "**Implement the function below to extract the features from the list of audio files.** You can use `madmom` or `librosa` to extract the mel spectrograms. Be aware of the different ordering of dimensions for frequency bins and time of the two frameworks.\n",
    "\n",
    "**Note:** Make sure to be able to handle corrupt audio files (e.g. try/except block), there are a couple of corrupt audio files in the dataset."
   ]
  },
  {
   "cell_type": "code",
   "execution_count": 4,
   "metadata": {
    "nbgrader": {
     "grade": false,
     "grade_id": "cell-0e4198c9c0ba9e75",
     "locked": false,
     "schema_version": 3,
     "solution": true,
     "task": false
    }
   },
   "outputs": [],
   "source": [
    "def extract_features(file_list):\n",
    "    features = []  # list containing features for each audio file\n",
    "    file_names = []  # audio file names for features (indices should correspond!), cut path and file extension, only leave names\n",
    "    # iterate over files and extract features...\n",
    "    ## BEGIN SOLUTION\n",
    "    from madmom.audio import LogarithmicFilteredSpectrogram\n",
    "    from madmom.audio.filters import MelFilterbank\n",
    "    for idx, cur_file in enumerate(file_list):\n",
    "        cur_path, cur_full_name = os.path.split(cur_file)\n",
    "        cur_name = os.path.splitext(cur_full_name)[0]\n",
    "        try:\n",
    "            cur_feat = LogarithmicFilteredSpectrogram(cur_file, filterbank=MelFilterbank, num_bands=num_mel_bands,\n",
    "                                        sample_rate=sample_rate, num_channels=1, frame_size=fft_frame_size,\n",
    "                                        hop_size=hop_size, fmax=sample_rate/2, unique_filters=False).T        \n",
    "            features.append(cur_feat)\n",
    "            file_names.append(cur_name)\n",
    "            print(f'{idx + 1}/{len(file_list)} Calculated: {cur_name}, Shape: {cur_feat.shape}')\n",
    "        except Exception as e:\n",
    "            print(f'## ERROR ## {idx + 1}/{len(file_list)}: {cur_name} ## FAILED ## : {e}')\n",
    "    ### END SOLUTION\n",
    "    return np.asarray(features), np.asarray(file_names)"
   ]
  },
  {
   "cell_type": "code",
   "execution_count": 5,
   "metadata": {
    "nbgrader": {
     "grade": true,
     "grade_id": "cell-625aaac284ca79b0",
     "locked": true,
     "points": 5,
     "schema_version": 3,
     "solution": false,
     "task": false
    },
    "scrolled": false
   },
   "outputs": [
    {
     "name": "stdout",
     "output_type": "stream",
     "text": [
      "1/10 Calculated: magnatune-red_hat_summit_compilation-04-very_large_array__magnified-59-88, Shape: (96, 1366)\n",
      "2/10 Calculated: kenji_williams-worldspirit_soundtrack-07-worldspirit_invocation-233-262, Shape: (96, 1366)\n",
      "3/10 Calculated: mercy_machine-in_your_bed__the_remixes-02-quietly_pharm_13_mix-262-291, Shape: (96, 1366)\n",
      "4/10 Calculated: magnatune-red_hat_summit_compilation-11-williamson__2_percent_er-146-175, Shape: (96, 1366)\n",
      "5/10 Calculated: magnatune-red_hat_summit_compilation-16-emmas_mini__take_me_to_your_soul-262-291, Shape: (96, 1366)\n",
      "6/10 Calculated: hybris-the_first_words-08-the_choice_i_never_had-30-59, Shape: (96, 1366)\n",
      "7/10 Calculated: kenji_williams-worldspirit_soundtrack-06-aura-204-233, Shape: (96, 1366)\n",
      "8/10 Calculated: beth_quist-lucidity-11-the_house_that_jack_built-88-117, Shape: (96, 1366)\n",
      "9/10 Calculated: magnatune-red_hat_summit_compilation-02-brad_sucks__i_think_i_started_a_trend-30-59, Shape: (96, 1366)\n",
      "10/10 Calculated: mediva-viva_mediva-10-mui_grandes_noit_e_dia_cantiga_no_57-88-117, Shape: (96, 1366)\n",
      "Calculating features for 10 files took: 1.27s. Full dataset (25862) will take: 3284.47s.\n",
      "All tests successful!\n"
     ]
    },
    {
     "data": {
      "image/png": "[encoded data removed]",
      "text/plain": [
       "<Figure size 1080x288 with 2 Axes>"
      ]
     },
     "metadata": {
      "needs_background": "light"
     },
     "output_type": "display_data"
    }
   ],
   "source": [
    "# tests\n",
    "\n",
    "from time import time as get_time\n",
    "\n",
    "t1 = get_time()\n",
    "num_test_files = 10\n",
    "test_feats, test_names = extract_features(audio_file_paths[:num_test_files])\n",
    "t_calc = get_time()-t1\n",
    "print(f\"Calculating features for {num_test_files} files took: {t_calc:.2f}s. Full dataset ({audio_file_total_count}) will take: {t_calc/num_test_files*audio_file_total_count:.2f}s.\")\n",
    "\n",
    "assert len(test_feats) == num_test_files, \"not all features calculated!\"\n",
    "assert all([cur_feat.shape == exp_feat_shape for cur_feat in test_feats]), \"incorrect features shape!\"\n",
    "\n",
    "### BEGIN HIDDEN TESTS\n",
    "import matplotlib.pyplot as plt\n",
    "plt.figure(figsize=(15,4))\n",
    "plt.subplot(1, 2, 1)\n",
    "plt.imshow(test_feats[0], origin='lower', aspect='auto', interpolation='none')\n",
    "plt.title('calculated')\n",
    "plt.subplot(1, 2, 2)\n",
    "from madmom.audio import LogarithmicFilteredSpectrogram\n",
    "from madmom.audio.filters import MelFilterbank\n",
    "cur_feat = LogarithmicFilteredSpectrogram(audio_file_paths[0], filterbank=MelFilterbank, num_bands=num_mel_bands,\n",
    "                            sample_rate=sample_rate, num_channels=1, frame_size=fft_frame_size,\n",
    "                            hop_size=hop_size, fmax=sample_rate/2, unique_filters=False).T \n",
    "plt.imshow(cur_feat, origin='lower', aspect='auto', interpolation='none')\n",
    "plt.title('reference')\n",
    "pass\n",
    "### END HIDDEN TESTS\n",
    "print('All tests successful!')"
   ]
  },
  {
   "cell_type": "markdown",
   "metadata": {
    "nbgrader": {
     "grade": false,
     "grade_id": "cell-ccd683a5d9bdab60",
     "locked": true,
     "schema_version": 3,
     "solution": false,
     "task": false
    }
   },
   "source": [
    "As you can see from the test above, extracting the features takes quite some time. To save you the time when restarting the kernel, and/or save disk space on the cluster, we already cached the features and stored them in a numpy file. If you run this notebook somewhere else (e.g. Colab), be prepared that the feature extraction will take significant time.\n",
    "You can also copy the numpy arrays if this is faster than recalculating all features. Also be aware that the cached features file is approximately 14GB."
   ]
  },
  {
   "cell_type": "code",
   "execution_count": 6,
   "metadata": {
    "nbgrader": {
     "grade": false,
     "grade_id": "cell-52c46eb12aabcb30",
     "locked": true,
     "schema_version": 3,
     "solution": false,
     "task": false
    },
    "scrolled": true
   },
   "outputs": [
    {
     "name": "stdout",
     "output_type": "stream",
     "text": [
      "Loaded feature cache. \n"
     ]
    }
   ],
   "source": [
    "feat_cache_file = os.path.join(cache_path, 'feat_cache.npy')\n",
    "name_cache_file = os.path.join(cache_path, 'name_cache.npy')\n",
    "if not os.path.exists(feat_cache_file) or not os.path.exists(name_cache_file):\n",
    "    t1 = get_time()\n",
    "    features, file_names = extract_features(audio_file_paths)\n",
    "    np.save(feat_cache_file, features)\n",
    "    np.save(name_cache_file, file_names)\n",
    "    print(f\"Recalculated all features. Took: {get_time()-t1} seconds.\")\n",
    "else:\n",
    "    features = np.load(feat_cache_file, allow_pickle=True, mmap_mode='r')\n",
    "    file_names = np.load(name_cache_file, allow_pickle=True, mmap_mode='r')\n",
    "    print(f\"Loaded feature cache. \")"
   ]
  },
  {
   "cell_type": "markdown",
   "metadata": {
    "nbgrader": {
     "grade": false,
     "grade_id": "cell-637f55e6274bdd99",
     "locked": true,
     "schema_version": 3,
     "solution": false,
     "task": false
    }
   },
   "source": [
    "The next cell is a workaround for the limited infrastructure. If you have enough hardware resources, you can run the example with the full data."
   ]
  },
  {
   "cell_type": "code",
   "execution_count": 7,
   "metadata": {},
   "outputs": [
    {
     "name": "stdout",
     "output_type": "stream",
     "text": [
      "number of datapoints: 6465\n"
     ]
    }
   ],
   "source": [
    "# subsample features and names to make data size more manageable.\n",
    "# if you have powerful infrastructure you can run with full data and set use_subsample to False.\n",
    "use_subsample = True\n",
    "data_size = len(features)\n",
    "\n",
    "if use_subsample:\n",
    "    indices = list(range(data_size))\n",
    "\n",
    "    fraction = 0.25\n",
    "    data_size = int(data_size * fraction)\n",
    "    import random\n",
    "    random.shuffle(indices)\n",
    "    indices = indices[:data_size]\n",
    "\n",
    "    features = features[indices]\n",
    "    file_names = file_names[indices]\n",
    "\n",
    "data_size = len(features)\n",
    "print(f'number of datapoints: {data_size}')"
   ]
  },
  {
   "cell_type": "code",
   "execution_count": 8,
   "metadata": {
    "nbgrader": {
     "grade": true,
     "grade_id": "cell-5c525475f5e08496",
     "locked": true,
     "points": 5,
     "schema_version": 3,
     "solution": false,
     "task": false
    }
   },
   "outputs": [
    {
     "name": "stdout",
     "output_type": "stream",
     "text": [
      "All tests successful!\n"
     ]
    }
   ],
   "source": [
    "# test\n",
    "\n",
    "assert features[0].shape == (96, 1366)\n",
    "\n",
    "### BEGIN HIDDEN TESTS\n",
    "# assert len(file_names) == audio_file_total_count, \"Save the file name for each audio file!\"\n",
    "# assert len(features) == audio_file_total_count, \"Extract features or each audio file!\"\n",
    "### END HIDDEN TESTS\n",
    "print('All tests successful!')"
   ]
  },
  {
   "cell_type": "markdown",
   "metadata": {
    "nbgrader": {
     "grade": false,
     "grade_id": "cell-88bd2a921720331f",
     "locked": true,
     "schema_version": 3,
     "solution": false,
     "task": false
    }
   },
   "source": [
    "### 1.2 Collect and Preprocess Tags\n",
    "\n",
    "The file referenced by `data_file_annotations` contains the annotations of the dataset. It is a comma-separated-values file (csv), you can use e.g. the python package [`csv`](https://docs.python.org/3/library/csv.html) or [`pandas`](https://pandas.pydata.org/docs/user_guide/10min.html) to open and work on the data. Note that `csv` is simple and easy to use, but offers little data handling support, while `pandas` is more complex but also more powerful.\n",
    "Once you loaded the data from the file, inspect the data. You will find, that each row represents an audio clip, and there are columns for each annotated tag, as well as for the path to the audio file `mp3_path` and some unique ID `clip_id`.\n",
    "Extract all tags, gather a set of unique tags, and count how often each tag is used.\n",
    "Then only keep the 50 most frequent tags `most_freq_tags`.\n",
    "\n",
    "The returned list of tags represents our classes, and indices in this list represent the unique ID for the corresponding class - so after the definition of the `class_names` list, do not change the order of this list later in the notebook, and reference classes / class labels as indices of this list / names in this list.\n",
    "\n",
    "**Implement the function below to build the list of class names and training targets.**"
   ]
  },
  {
   "cell_type": "code",
   "execution_count": 9,
   "metadata": {
    "nbgrader": {
     "grade": false,
     "grade_id": "cell-a23709d93d5428e7",
     "locked": true,
     "schema_version": 3,
     "solution": false,
     "task": false
    }
   },
   "outputs": [],
   "source": [
    "DEFAULT_NUM_CLASSES = 50"
   ]
  },
  {
   "cell_type": "code",
   "execution_count": 10,
   "metadata": {
    "nbgrader": {
     "grade": false,
     "grade_id": "cell-d54b144c084cd5aa",
     "locked": false,
     "schema_version": 3,
     "solution": true,
     "task": false
    }
   },
   "outputs": [],
   "source": [
    "def create_targets(num_classes = DEFAULT_NUM_CLASSES, annot_file=data_file_annotations):\n",
    "    # read annotations from data_file_annotations\n",
    "    # extract 50 most frequent tags\n",
    "    most_freq_tags = []  #TODO: fill with most frequent tags\n",
    "    class_names = most_freq_tags\n",
    "\n",
    "    # buld targets for the neural network training:\n",
    "    # creat an array with binary on/off values for each tag in most_freq_tags (target array); \n",
    "    # create these target arrays for each of the rows in the annotation file.\n",
    "    # each row in the annotation file references a audio file ('clip_id' / 'mp3_path').\n",
    "    # store an entry in the dictionary below using the audio name ('mp3_path' column without path and extension, \n",
    "    # as for the features list) as key and the target array as value\n",
    "    targ_dict = {}  #TODO: fill with targets\n",
    "\n",
    "    ### BEGIN SOLUTION\n",
    "    import pandas as pd\n",
    "    df_data_annotation = pd.read_csv(annot_file, sep='\\t')\n",
    "    all_tags = list(set(df_data_annotation.columns) - set(['clip_id', 'mp3_path']))\n",
    "    s_most_freq_tags = df_data_annotation[all_tags].sum(axis=0).sort_values(ascending=False)[:num_classes]\n",
    "    most_freq_tags = list(s_most_freq_tags.index)\n",
    "    most_freq_tags.sort()\n",
    "    class_names = most_freq_tags\n",
    "    targets_cache_file = os.path.join(cache_path, 'targets_cache.npy')\n",
    "    if os.path.exists(targets_cache_file):\n",
    "        targ_dict = np.load(targets_cache_file, allow_pickle=True).item()\n",
    "    else:\n",
    "        targ_dict = {}\n",
    "        for index, annot_row in df_data_annotation[most_freq_tags+['clip_id', 'mp3_path']].iterrows():\n",
    "            cur_name = annot_row['mp3_path'][2:-4]\n",
    "            targ_dict[cur_name] = np.asarray(annot_row[most_freq_tags], dtype=np.int)\n",
    "        np.save(targets_cache_file, targ_dict)\n",
    "\n",
    "    ### END SOLUTION\n",
    "    return class_names, targ_dict"
   ]
  },
  {
   "cell_type": "code",
   "execution_count": 11,
   "metadata": {
    "nbgrader": {
     "grade": false,
     "grade_id": "cell-d5001e3dd4f0382c",
     "locked": true,
     "schema_version": 3,
     "solution": false,
     "task": false
    }
   },
   "outputs": [
    {
     "name": "stdout",
     "output_type": "stream",
     "text": [
      "most frequent tags: ['ambient', 'beat', 'beats', 'cello', 'choir', 'choral', 'classic', 'classical', 'country', 'dance', 'drums', 'electronic', 'fast', 'female', 'female vocal', 'female voice', 'flute', 'guitar', 'harp', 'harpsichord', 'indian', 'loud', 'male', 'male vocal', 'male voice', 'man', 'metal', 'new age', 'no vocal', 'no vocals', 'no voice', 'opera', 'piano', 'pop', 'quiet', 'rock', 'singing', 'sitar', 'slow', 'soft', 'solo', 'strings', 'synth', 'techno', 'violin', 'vocal', 'vocals', 'voice', 'weird', 'woman']\n"
     ]
    }
   ],
   "source": [
    "class_names, targ_dict = create_targets()\n",
    "\n",
    "print(f'most frequent tags: {class_names}')"
   ]
  },
  {
   "cell_type": "code",
   "execution_count": 12,
   "metadata": {
    "nbgrader": {
     "grade": true,
     "grade_id": "cell-5a8f67659428c345",
     "locked": true,
     "points": 5,
     "schema_version": 3,
     "solution": false,
     "task": false
    }
   },
   "outputs": [
    {
     "name": "stdout",
     "output_type": "stream",
     "text": [
      "number of feats: 6465 expected: 25860\n",
      "number of targets: 25863 expected: 25863\n",
      "number of audio files: 25862 expected: 25862\n",
      "All tests successful!\n"
     ]
    }
   ],
   "source": [
    "# tests\n",
    "\n",
    "assert len(class_names) == DEFAULT_NUM_CLASSES\n",
    "\n",
    "assert len(targ_dict.keys()) >= audio_file_total_count\n",
    "\n",
    "assert next(iter(targ_dict.values())).shape == (DEFAULT_NUM_CLASSES, ), f\"invalid shape for targets, expected ({DEFAULT_NUM_CLASSES}, )\"\n",
    "\n",
    "### BEGIN HIDDEN TESTS\n",
    "import pandas as pd\n",
    "df_data_annotation = pd.read_csv(data_file_annotations, sep='\\t')\n",
    "test_all_tags = list(set(df_data_annotation.columns) - set(['clip_id', 'mp3_path']))\n",
    "test_all_tags.sort()\n",
    "test_s_most_freq_tags = df_data_annotation[test_all_tags].sum(axis=0).sort_values(ascending=False)[:50]\n",
    "test_most_freq_tags = list(test_s_most_freq_tags.index)\n",
    "test_most_freq_tags.sort()\n",
    "most_freq_tags_cpy = class_names.copy()\n",
    "most_freq_tags_cpy.sort()\n",
    "assert test_most_freq_tags == most_freq_tags_cpy\n",
    "tag1 = ['ambient', 'beat', 'beats', 'cello', 'choir', 'choral', 'classic', 'classical', 'country', 'dance', 'drums', 'electronic', 'fast', 'female', 'female vocal', 'female voice', 'flute', 'guitar', 'harp', 'harpsichord', 'indian', 'loud', 'male', 'male vocal', 'male voice', 'man', 'metal', 'new age', 'no vocal', 'no vocals', 'no voice', 'opera', 'piano', 'pop', 'quiet', 'rock', 'singing', 'sitar', 'slow', 'soft', 'solo', 'strings', 'synth', 'techno', 'violin', 'vocal', 'vocals', 'voice', 'weird', 'woman']\n",
    "\n",
    "print(f'number of feats: {len(features)} expected: 25860')\n",
    "print(f'number of targets: {len(targ_dict.keys())} expected: 25863')\n",
    "print(f'number of audio files: {audio_file_total_count} expected: 25862')\n",
    "### END HIDDEN TESTS\n",
    "print('All tests successful!')"
   ]
  },
  {
   "cell_type": "markdown",
   "metadata": {
    "nbgrader": {
     "grade": false,
     "grade_id": "cell-57187004bb828831",
     "locked": true,
     "schema_version": 3,
     "solution": false,
     "task": false
    }
   },
   "source": [
    "### Task 1.3 Generating Dataset Splits\n",
    "Divide the data into training, validation, and test splits. For validation use approximately 5% and for testing hold out approximately 15% of the total data.\n",
    "Consider that there maybe be multiple clips of the same track. Different clips of the same track must be in the same split (all in either train, valid, or test), to counteract overfitting.\n",
    "\n",
    "To identify the individual tracks and clips of the same track, we need to look into the file `'clip_info_final.csv'`. The path to this file is stored in `data_file_clip_info`.\n",
    "\n",
    "You can identify individual tracks by their `original_url` column, however, for some files the `original_url` is not provided. So to be save, use a combination of the following columns to identify unique entries: `[\"track_number\", \"title\", \"artist\", \"album\", \"url\", \"original_url\"]`.\n",
    "Note that individual tracks will have a varying count of clips.\n",
    "\n",
    "The easiest way to divide the data into train, valid, and test split, is to divide the tracks (unique rows from above) into the splits, and assume that the number of clips will average out over all tracks, so that in the end we get approximately the desired split sizes (the exact number is not so important). You are free to accomplish this in any other way if you prefer.\n"
   ]
  },
  {
   "cell_type": "code",
   "execution_count": 13,
   "metadata": {
    "nbgrader": {
     "grade": false,
     "grade_id": "cell-0008272fc2e0c668",
     "locked": true,
     "schema_version": 3,
     "solution": false,
     "task": false
    }
   },
   "outputs": [],
   "source": [
    "DEFAULT_TEST_PERC = 0.15\n",
    "DEFAULT_VALID_PERC = 0.05"
   ]
  },
  {
   "cell_type": "code",
   "execution_count": 14,
   "metadata": {
    "nbgrader": {
     "grade": false,
     "grade_id": "cell-8f12e075aaf308ec",
     "locked": false,
     "schema_version": 3,
     "solution": true,
     "task": false
    },
    "scrolled": false
   },
   "outputs": [],
   "source": [
    "# to split features, targets, and names into train, valid, and test split, it is easiest to just \n",
    "# generate indices to our overall feature/name/target lists.\n",
    "# the indices should be randomly drawn, but also put samples of the same original track in the same split.\n",
    "# feel free to change this cell, if you choose to define your splits in another way.\n",
    "\n",
    "def get_split_indices(file_names_list, clip_info_file, \n",
    "                      test_perc=DEFAULT_TEST_PERC, valid_perc=DEFAULT_VALID_PERC):\n",
    "    train_perc = 1-test_perc-valid_perc\n",
    "    \n",
    "    ### BEGIN SOLUTION\n",
    "    import pandas as pd\n",
    "    df_data_clip = pd.read_csv(clip_info_file, sep='\\t')\n",
    "\n",
    "    df_data_clip = df_data_clip.dropna()\n",
    "    unique_paths = df_data_clip.groupby([\"track_number\", \"title\", \"artist\", \"album\", \"url\", \"original_url\"])\n",
    "\n",
    "    indices_dict = {}\n",
    "    file_names_list = list(file_names)\n",
    "    for name, group in unique_paths:\n",
    "        string_name = '_'.join([str(elem) for elem in name[:4]])  # some unique name...\n",
    "\n",
    "        assert string_name not in indices_dict and string_name\n",
    "        indices_dict[string_name] = []\n",
    "        for mp3_path in group['mp3_path']:\n",
    "            name = mp3_path[2:-4]\n",
    "            if name not in file_names_list:\n",
    "                # print(f'warning: file not found in features: {name}')\n",
    "                continue\n",
    "            indices_dict[string_name].append(file_names_list.index(name))\n",
    "\n",
    "        assert len(set([name[:1] for name in group['mp3_path']])) == 1\n",
    "\n",
    "    lens = [len(val1) for val1 in indices_dict.values()]\n",
    "    total_samples = np.sum(lens)\n",
    "\n",
    "    keys = list(indices_dict.keys())\n",
    "    num_tracks = len(keys)\n",
    "\n",
    "    num_test = int(test_perc*num_tracks)\n",
    "    num_valid = int(valid_perc*num_tracks)\n",
    "    import random\n",
    "\n",
    "    random.shuffle(keys)\n",
    "    test_keys = keys[:num_test]\n",
    "    valid_keys = keys[num_test:(num_test+num_valid)]\n",
    "    train_keys = keys[(num_test+num_valid):]\n",
    "\n",
    "    test_indcs = []\n",
    "    for test_key in test_keys:\n",
    "        test_indcs.extend(indices_dict[test_key])\n",
    "\n",
    "    valid_indcs = []\n",
    "    for valid_key in valid_keys:\n",
    "        valid_indcs.extend(indices_dict[valid_key])\n",
    "\n",
    "    train_indcs = []\n",
    "    for train_key in train_keys:\n",
    "        train_indcs.extend(indices_dict[train_key])\n",
    "    \n",
    "    ### END SOLUTION\n",
    "    return test_indcs, valid_indcs, train_indcs"
   ]
  },
  {
   "cell_type": "code",
   "execution_count": 15,
   "metadata": {},
   "outputs": [],
   "source": [
    "# feel free to change this, if you define your splits other than by indices...\n",
    "\n",
    "test_indcs, valid_indcs, train_indcs = get_split_indices(list(file_names), data_file_clip_info)\n",
    "\n",
    "test_feats = features[test_indcs]\n",
    "valid_feats = features[valid_indcs]\n",
    "train_feats = features[train_indcs]\n",
    "\n",
    "test_names = file_names[test_indcs]\n",
    "valid_names = file_names[valid_indcs]\n",
    "train_names = file_names[train_indcs]\n",
    "\n",
    "train_targs = np.asarray([targ_dict[cur_name] for cur_name in train_names])\n",
    "valid_targs = np.asarray([targ_dict[cur_name] for cur_name in valid_names])\n",
    "test_targs = np.asarray([targ_dict[cur_name] for cur_name in test_names])"
   ]
  },
  {
   "cell_type": "code",
   "execution_count": 16,
   "metadata": {
    "scrolled": true
   },
   "outputs": [
    {
     "name": "stdout",
     "output_type": "stream",
     "text": [
      "All tests successful!\n"
     ]
    }
   ],
   "source": [
    "# tests\n",
    "\n",
    "tmp_test_perc=DEFAULT_TEST_PERC\n",
    "tmp_valid_perc=DEFAULT_VALID_PERC\n",
    "tmp_train_perc = 1-tmp_test_perc-tmp_valid_perc\n",
    "\n",
    "# we assume for spliting by tracks, that the split sizes should be within +-20%\n",
    "assert int(data_size*tmp_train_perc*0.8) <= len(train_indcs) \\\n",
    "                        <= int(data_size*tmp_train_perc*1.2)\n",
    "assert int(data_size*tmp_valid_perc*0.8) <= len(valid_indcs) \\\n",
    "                        <= int(data_size*tmp_valid_perc*1.2)\n",
    "assert int(data_size*tmp_test_perc*0.8) <= len(test_indcs) \\\n",
    "                        <= int(data_size*tmp_test_perc*1.2)\n",
    "\n",
    "print('All tests successful!')"
   ]
  },
  {
   "cell_type": "markdown",
   "metadata": {
    "nbgrader": {
     "grade": false,
     "grade_id": "cell-b6b5773d5570419c",
     "locked": true,
     "schema_version": 3,
     "solution": false,
     "task": false
    }
   },
   "source": [
    "### 1.4 Dataset Class \n",
    "\n",
    "**Implement a torch dataset** as we did for assignment 5. In this case the dataset is quite simple, since we will return one file as one training example.\n",
    "The total count, therefore, is the length of the feature list, and the `getitem` method should just return the feature/target combination at the provided index.\n",
    "Remember to convert the return values for `getitem` to torch tensors."
   ]
  },
  {
   "cell_type": "code",
   "execution_count": 17,
   "metadata": {},
   "outputs": [],
   "source": [
    "import torch\n",
    "from torch.utils.data import Dataset\n",
    "\n",
    "if not COLAB:\n",
    "    torch.set_num_threads(16)  # we have to set the number of threads < 64, this is a workaround"
   ]
  },
  {
   "cell_type": "code",
   "execution_count": 18,
   "metadata": {
    "nbgrader": {
     "grade": false,
     "grade_id": "cell-0205946a361e6895",
     "locked": false,
     "schema_version": 3,
     "solution": true,
     "task": false
    }
   },
   "outputs": [],
   "source": [
    "class MagnaSet(Dataset):\n",
    "    def __init__(self, features, targets):\n",
    "        super(MagnaSet, self).__init__()\n",
    "        ### BEGIN SOLUTION\n",
    "        self.features = np.asarray(features, dtype=np.float32)\n",
    "        self.targets = np.asarray(targets, dtype=np.float32)\n",
    "        self.length = len(self.features)\n",
    "        ### END SOLUTION\n",
    "\n",
    "    def __len__(self):\n",
    "        ### BEGIN SOLUTION\n",
    "        return self.length\n",
    "        ### END SOLUTION\n",
    "\n",
    "    def __getitem__(self, idx):\n",
    "        ### BEGIN SOLUTION\n",
    "        return torch.from_numpy(self.features[idx]), torch.from_numpy(self.targets[idx])\n",
    "        ### END SOLUTION"
   ]
  },
  {
   "cell_type": "code",
   "execution_count": 19,
   "metadata": {
    "nbgrader": {
     "grade": true,
     "grade_id": "cell-3079327571d8fe84",
     "locked": true,
     "points": 5,
     "schema_version": 3,
     "solution": false,
     "task": false
    }
   },
   "outputs": [
    {
     "name": "stdout",
     "output_type": "stream",
     "text": [
      "All tests successful!\n"
     ]
    }
   ],
   "source": [
    "# tests\n",
    "tmp_num_samples = 100\n",
    "tmp_test_feats = np.asarray([np.random.rand(*exp_feat_shape) for _ in range(tmp_num_samples)])\n",
    "tmp_test_targs = np.asarray([np.random.rand(DEFAULT_NUM_CLASSES) for _ in range(tmp_num_samples)])\n",
    "\n",
    "tmp_test_dataset = MagnaSet(tmp_test_feats, tmp_test_targs)\n",
    "\n",
    "assert len(tmp_test_dataset) == tmp_num_samples, \"dataset returns wrong length\"\n",
    "\n",
    "tmp_ex_feat, tmp_ex_targ = tmp_test_dataset[10]\n",
    "assert tmp_ex_feat.shape == exp_feat_shape\n",
    "assert tmp_ex_targ.shape == (DEFAULT_NUM_CLASSES, )\n",
    "assert np.allclose(tmp_ex_feat, tmp_test_feats[10])\n",
    "tmp_ex_feat, tmp_ex_targ = tmp_test_dataset[0]\n",
    "assert tmp_ex_feat.shape == exp_feat_shape\n",
    "assert tmp_ex_targ.shape == (DEFAULT_NUM_CLASSES, )\n",
    "assert np.allclose(tmp_ex_feat, tmp_test_feats[0])\n",
    "tmp_ex_feat, tmp_ex_targ = tmp_test_dataset[tmp_num_samples-1]\n",
    "assert tmp_ex_feat.shape == exp_feat_shape\n",
    "assert tmp_ex_targ.shape == (DEFAULT_NUM_CLASSES, )\n",
    "assert np.allclose(tmp_ex_feat, tmp_test_feats[tmp_num_samples-1])\n",
    "\n",
    "try:\n",
    "    tmp_ex_feat, tmp_ex_targ = tmp_test_dataset[tmp_num_samples]\n",
    "    assert False, \"this should produce an out of index error!\"\n",
    "except:\n",
    "    assert True\n",
    "\n",
    "print('All tests successful!')"
   ]
  },
  {
   "cell_type": "markdown",
   "metadata": {
    "nbgrader": {
     "grade": false,
     "grade_id": "cell-b486d15cd814f352",
     "locked": true,
     "schema_version": 3,
     "solution": false,
     "task": false
    }
   },
   "source": [
    "## Task 2: Neural Network Implementaion (5 Points)\n",
    "\n",
    "Implement the neural network architecture outlined by Choi et al. \\[2016\\]. The model usees the Mel-spectrograms as inputs and produces a 50-value vector as output (representing the probabilities for labels). Since multiple labels can apply, sigmoid outputs should be used. \n",
    "\n",
    "Note that the FCN-4 architecture described in the paper lacks implementation details and is revisited in the github repository to the paper. So, instead follow the MusicTaggerCNN [KERAS reference implementation](https://github.com/keunwoochoi/music-auto_tagging-keras/blob/master/music_tagger_cnn.py) by the same authors to reproduce the architecture using pyTorch.\n",
    "\n",
    "The architecture consists of 5 CNN layers (with 3x3 kernels all; and 64, 128, 128, 128, 64 channels respectively), and a fully connected output layer with 50 nodes. Use batch-normalization and max-pooling (with 2x4, 2x4, 2x4, 3x5, 4x4 kernels) after each convolutional layer, and as activation functions use ELU (`torch_func.elu`).\n",
    "\n",
    "**Implement the pytorch network below.**"
   ]
  },
  {
   "cell_type": "code",
   "execution_count": 20,
   "metadata": {
    "nbgrader": {
     "grade": false,
     "grade_id": "cell-3adfd44ac136d1cc",
     "locked": false,
     "schema_version": 3,
     "solution": true,
     "task": false
    }
   },
   "outputs": [],
   "source": [
    "import torch.nn as nn\n",
    "import torch.nn.functional as torch_func\n",
    "\n",
    "class MusicTaggerCNN(nn.Module):\n",
    "    def __init__(self, debug=False, num_classes=DEFAULT_NUM_CLASSES):\n",
    "        super(MusicTaggerCNN, self).__init__()\n",
    "        self.debug = debug # use the debug flag again to produce shape outputs in the forward function.\n",
    "        \n",
    "        #initialize modules for neural network\n",
    "        ### BEGIN SOLUTION\n",
    "        self.block1_conv1 = nn.Conv2d(1, 64, kernel_size=3, padding=1)\n",
    "        self.block1_conv1_bn = nn.BatchNorm2d(64)\n",
    "        self.block2_conv1 = nn.Conv2d(64, 128, kernel_size=3, padding=1)\n",
    "        self.block2_conv1_bn = nn.BatchNorm2d(128)\n",
    "        self.block3_conv1 = nn.Conv2d(128, 128, kernel_size=3, padding=1)\n",
    "        self.block3_conv1_bn = nn.BatchNorm2d(128)\n",
    "        self.block4_conv1 = nn.Conv2d(128, 128, kernel_size=3, padding=1)\n",
    "        self.block4_conv1_bn = nn.BatchNorm2d(128)\n",
    "        self.block5_conv1 = nn.Conv2d(128, 64, kernel_size=3, padding=1)\n",
    "        self.block5_conv1_bn = nn.BatchNorm2d(64)\n",
    "        self.block6_out = nn.Linear(64 * 1 * 1, num_classes)\n",
    "        ### END SOLUTION\n",
    "\n",
    "    def forward(self, x):\n",
    "        x = x.unsqueeze(1)\n",
    "        ### BEGIN SOLUTION\n",
    "        if self.debug:\n",
    "            print(x.shape)\n",
    "        x = self.block1_conv1(x)\n",
    "        x = self.block1_conv1_bn(x)\n",
    "        x = torch_func.elu(x)\n",
    "        if self.debug:\n",
    "            print(x.shape)\n",
    "        x = torch_func.max_pool2d(x, (2, 4))\n",
    "        if self.debug:\n",
    "            print(x.shape)\n",
    "        x = self.block2_conv1(x)\n",
    "        x = self.block2_conv1_bn(x)\n",
    "        x = torch_func.elu(x)\n",
    "        if self.debug:\n",
    "            print(x.shape)\n",
    "        x = torch_func.max_pool2d(x, (2, 4))\n",
    "        if self.debug:\n",
    "            print(x.shape)\n",
    "        x = self.block3_conv1(x)\n",
    "        x = self.block3_conv1_bn(x)\n",
    "        x = torch_func.elu(x)\n",
    "        if self.debug:\n",
    "            print(x.shape)\n",
    "        x = torch_func.max_pool2d(x, (2, 4))\n",
    "        if self.debug:\n",
    "            print(x.shape)\n",
    "        x = self.block4_conv1(x)\n",
    "        x = self.block4_conv1_bn(x)\n",
    "        x = torch_func.elu(x)\n",
    "        if self.debug:\n",
    "            print(x.shape)\n",
    "        x = torch_func.max_pool2d(x, (3, 5))\n",
    "        if self.debug:\n",
    "            print(x.shape)\n",
    "        x = self.block5_conv1(x)\n",
    "        x = self.block5_conv1_bn(x)\n",
    "        x = torch_func.elu(x)\n",
    "        if self.debug:\n",
    "            print(x.shape)\n",
    "        x = torch_func.max_pool2d(x, (4, 4))\n",
    "        if self.debug:\n",
    "            print(x.shape)\n",
    "        x = x.reshape(-1, 64 * 1 * 1)\n",
    "        if self.debug:\n",
    "            print(x.shape)\n",
    "        x = self.block6_out(x)\n",
    "        if self.debug:\n",
    "            print(x.shape)\n",
    "        y = torch.sigmoid(x)\n",
    "        ### END SOLUTION\n",
    "        return y"
   ]
  },
  {
   "cell_type": "code",
   "execution_count": 21,
   "metadata": {
    "nbgrader": {
     "grade": true,
     "grade_id": "cell-827a55ef5cfbd4bb",
     "locked": true,
     "points": 5,
     "schema_version": 3,
     "solution": false,
     "task": false
    }
   },
   "outputs": [
    {
     "name": "stdout",
     "output_type": "stream",
     "text": [
      "torch.Size([1, 1, 96, 1366])\n",
      "torch.Size([1, 64, 96, 1366])\n",
      "torch.Size([1, 64, 48, 341])\n",
      "torch.Size([1, 128, 48, 341])\n",
      "torch.Size([1, 128, 24, 85])\n",
      "torch.Size([1, 128, 24, 85])\n",
      "torch.Size([1, 128, 12, 21])\n",
      "torch.Size([1, 128, 12, 21])\n",
      "torch.Size([1, 128, 4, 4])\n",
      "torch.Size([1, 64, 4, 4])\n",
      "torch.Size([1, 64, 1, 1])\n",
      "torch.Size([1, 64])\n",
      "torch.Size([1, 50])\n",
      "torch.Size([20, 1, 96, 1366])\n"
     ]
    },
    {
     "name": "stderr",
     "output_type": "stream",
     "text": [
      "/opt/conda/lib/python3.9/site-packages/torch/nn/functional.py:718: UserWarning: Named tensors and all their associated APIs are an experimental feature and subject to change. Please do not use them for anything important until they are released as stable. (Triggered internally at  /tmp/pip-req-build-1wfnpb1e/c10/core/TensorImpl.h:1156.)\n",
      "  return torch.max_pool2d(input, kernel_size, stride, padding, dilation, ceil_mode)\n"
     ]
    },
    {
     "name": "stdout",
     "output_type": "stream",
     "text": [
      "torch.Size([20, 64, 96, 1366])\n",
      "torch.Size([20, 64, 48, 341])\n",
      "torch.Size([20, 128, 48, 341])\n",
      "torch.Size([20, 128, 24, 85])\n",
      "torch.Size([20, 128, 24, 85])\n",
      "torch.Size([20, 128, 12, 21])\n",
      "torch.Size([20, 128, 12, 21])\n",
      "torch.Size([20, 128, 4, 4])\n",
      "torch.Size([20, 64, 4, 4])\n",
      "torch.Size([20, 64, 1, 1])\n",
      "torch.Size([20, 64])\n",
      "torch.Size([20, 50])\n",
      "Found modules:\n",
      "1:\tConv2d(1, 64, kernel_size=(3, 3), stride=(1, 1), padding=(1, 1))\n",
      "2:\tBatchNorm2d(64, eps=1e-05, momentum=0.1, affine=True, track_running_stats=True)\n",
      "3:\tConv2d(64, 128, kernel_size=(3, 3), stride=(1, 1), padding=(1, 1))\n",
      "4:\tBatchNorm2d(128, eps=1e-05, momentum=0.1, affine=True, track_running_stats=True)\n",
      "5:\tConv2d(128, 128, kernel_size=(3, 3), stride=(1, 1), padding=(1, 1))\n",
      "6:\tBatchNorm2d(128, eps=1e-05, momentum=0.1, affine=True, track_running_stats=True)\n",
      "7:\tConv2d(128, 128, kernel_size=(3, 3), stride=(1, 1), padding=(1, 1))\n",
      "8:\tBatchNorm2d(128, eps=1e-05, momentum=0.1, affine=True, track_running_stats=True)\n",
      "9:\tConv2d(128, 64, kernel_size=(3, 3), stride=(1, 1), padding=(1, 1))\n",
      "10:\tBatchNorm2d(64, eps=1e-05, momentum=0.1, affine=True, track_running_stats=True)\n",
      "11:\tLinear(in_features=64, out_features=50, bias=True)\n",
      "-----------\n",
      "All tests successful!\n"
     ]
    }
   ],
   "source": [
    "# tests\n",
    "net = MusicTaggerCNN(debug=True)\n",
    "\n",
    "batches = 1\n",
    "output = net.forward(torch.rand(batches, *exp_feat_shape))\n",
    "assert output.shape == (batches, DEFAULT_NUM_CLASSES)\n",
    "batches = 20\n",
    "output = net.forward(torch.rand(batches, *exp_feat_shape))\n",
    "assert output.shape == (batches, DEFAULT_NUM_CLASSES)\n",
    "\n",
    "module_list = net.__dict__['_modules'].values()\n",
    "\n",
    "num_modules = len(module_list)\n",
    "assert num_modules == 11, \"expected 11 modules!\"\n",
    "\n",
    "num_conv2d = 0\n",
    "num_bn2d = 0\n",
    "num_lin = 0\n",
    "# count modules...\n",
    "print(\"Found modules:\")\n",
    "for idx, module in enumerate(module_list):\n",
    "    print(\"{}:\\t{}\".format(idx+1, module))\n",
    "    if isinstance(module, nn.Conv2d):\n",
    "        num_conv2d += 1\n",
    "    if isinstance(module, nn.BatchNorm2d):\n",
    "        num_bn2d += 1\n",
    "    if isinstance(module, nn.Linear):\n",
    "        num_lin += 1\n",
    "print('-----------')\n",
    "\n",
    "assert num_conv2d == 5, \"expected 5 2D convolutional layers!\"\n",
    "assert num_bn2d == 5, \"expected 5 2D batchnorm layers!\"\n",
    "assert num_lin == 1, \"expected 1 dense layers!\"\n",
    "\n",
    "print('All tests successful!')"
   ]
  },
  {
   "cell_type": "markdown",
   "metadata": {
    "nbgrader": {
     "grade": false,
     "grade_id": "cell-7ed9fd4763443ab9",
     "locked": true,
     "schema_version": 3,
     "solution": false,
     "task": false
    }
   },
   "source": [
    "## Task 3: Network Training (10 Points)\n",
    "\n",
    "Train the network using ADAM optimization and binary cross-entropy as loss function.\n",
    "Whenever applicable, you can reuse code you built for assignment 5, if you want.\n",
    "\n",
    "### 3.1 Functions for Training, Testing, and Inference\n",
    "\n",
    "Very similar to assignment 5, **implement the soubroutines below** to make the main training function more readable:"
   ]
  },
  {
   "cell_type": "code",
   "execution_count": 46,
   "metadata": {
    "nbgrader": {
     "grade": false,
     "grade_id": "cell-270c85061ac5fdbe",
     "locked": false,
     "schema_version": 3,
     "solution": true,
     "task": false
    }
   },
   "outputs": [],
   "source": [
    "# helper functions for training - you can copy and modify from the last assignment\n",
    "\n",
    "from time import time as get_time\n",
    "\n",
    "\n",
    "def train_epoch_cnn(model, train_loader, optimizer, args):\n",
    "    # performs one epoch of training\n",
    "    ### BEGIN SOLUTION\n",
    "    model.train()  # set model to training mode (activate dropout layers for example)\n",
    "    t = get_time()  # we measure the needed time\n",
    "    total_loss = 0\n",
    "    num_batches = 0\n",
    "    for batch_idx, (data, target) in enumerate(train_loader):  # iterate over training data\n",
    "        data, target = data.to(args.device), target.to(args.device)  # move data to device (GPU) if necessary\n",
    "        optimizer.zero_grad()  # reset optimizer\n",
    "        output = model(data)   # forward pass: calculate output of network for input\n",
    "        loss = torch_func.binary_cross_entropy(output, target)  # calculate loss\n",
    "        total_loss += loss.item()\n",
    "        num_batches += 1\n",
    "        loss.backward()  # backward pass: calculate gradients using automatic diff. and backprop.\n",
    "        optimizer.step()  # udpate parameters of network using our optimizer\n",
    "        cur_time = get_time()\n",
    "        # print some outputs if we reached our logging intervall\n",
    "        if cur_time - t > args.log_interval or batch_idx == len(train_loader)-1:\n",
    "            print('[{}/{} ({:.0f}%)]\\tloss: {:.6f}, took {:.2f}s'.format(\n",
    "                       batch_idx * len(data), len(train_loader.dataset),\n",
    "                       100. * batch_idx / len(train_loader), total_loss/num_batches, cur_time - t))\n",
    "            t = cur_time\n",
    "    ### END SOLUTION\n",
    "\n",
    "\n",
    "def test_cnn(model, test_loader, args):\n",
    "    # runs inference over the test dataset and calculates overall loss (for validation and testing)\n",
    "    ### BEGIN SOLUTION\n",
    "    model.eval()  # set model to inference mode (deactivate dropout layers for example)\n",
    "    test_loss = 0  # init overall loss\n",
    "    num_batches = 0\n",
    "    with torch.no_grad():  # do not calculate gradients since we do not want to do updates\n",
    "        for data, target in test_loader:  # iterate over test data\n",
    "            data, target = data.to(args.device), target.to(args.device)  # move data to device\n",
    "            output = model(data) # forward pass\n",
    "            # claculate loss and add it to our cumulative loss\n",
    "            test_loss += torch_func.binary_cross_entropy(output, target).item()\n",
    "            num_batches += 1\n",
    "    test_loss /= num_batches  # calc mean loss\n",
    "    print('Average eval loss: {:.4f}\\n'.format(test_loss, len(test_loader.dataset)))\n",
    "    ### END SOLUTION\n",
    "    return test_loss\n",
    "\n",
    "\n",
    "def inference_cnn(model, data, args):\n",
    "    # runs inference over a single instance (for actual use of the model on real data)\n",
    "    ### BEGIN SOLUTION\n",
    "    model.eval()   # set model to inference mode\n",
    "    # reserve output memory\n",
    "    in_shape = data.shape\n",
    "    data = torch.from_numpy(data[None, :, :])\n",
    "    data = data.to(args.device)  # move input to device\n",
    "    with torch.no_grad():  # do not calculate gradients\n",
    "        # calculate output for input data (and move back from device)\n",
    "        output = model(data)[0, :].cpu()\n",
    "    ### END SOLUTION\n",
    "    return output"
   ]
  },
  {
   "cell_type": "markdown",
   "metadata": {
    "nbgrader": {
     "grade": false,
     "grade_id": "cell-68a60280cc4bceff",
     "locked": true,
     "schema_version": 3,
     "solution": false,
     "task": false
    }
   },
   "source": [
    "### 3.2 Hyperparameters\n",
    "\n",
    "In this assignment a set of hyperparameters is provided. These should work more or less, so there is no need to invest time for an usable first results. \n",
    "If you feel like it, you can play around with them once you have a running model."
   ]
  },
  {
   "cell_type": "code",
   "execution_count": 23,
   "metadata": {},
   "outputs": [],
   "source": [
    "# training hyper parameters: go with these defaults at first\n",
    "\n",
    "CNN_MODEL_NAME = 'cnn_tagger_'\n",
    "\n",
    "# Helper class for neural network hyper-parameters\n",
    "# Do not change them until you have a working model\n",
    "class Args:\n",
    "    pass\n",
    "\n",
    "DEFAULT_ARGS = Args()\n",
    "# general params\n",
    "DEFAULT_ARGS.use_cuda = True\n",
    "DEFAULT_ARGS.seed = 1\n",
    "\n",
    "# architecture setup\n",
    "DEFAULT_ARGS.batch_size = 48\n",
    "DEFAULT_ARGS.out_num = DEFAULT_NUM_CLASSES\n",
    "\n",
    "# optimizer parameters\n",
    "DEFAULT_ARGS.lr = 0.1\n",
    "\n",
    "# training protocoll\n",
    "DEFAULT_ARGS.max_epochs = 1000\n",
    "DEFAULT_ARGS.patience = 3\n",
    "DEFAULT_ARGS.refinement = 2  # restart training after patience runs out with the best model, decrease lr by...\n",
    "DEFAULT_ARGS.lr_fac = 0.1    # ... the learning rate factor lr_fac: lr_new = lr_old*lr_fac\n",
    "DEFAULT_ARGS.log_interval = 10  # seconds"
   ]
  },
  {
   "cell_type": "markdown",
   "metadata": {
    "nbgrader": {
     "grade": false,
     "grade_id": "cell-fccbc9a438ded054",
     "locked": true,
     "schema_version": 3,
     "solution": false,
     "task": false
    }
   },
   "source": [
    "### 3.3 Main Training Function\n",
    "\n",
    "In the next function, implement the main loop for training the `MusicTaggerCNN` network.\n",
    "For training, you should use an early stopping training protocoll with patience, like we did in assignment 5.\n",
    "You can mostly copy paste what you programmed there.\n",
    "However, this time also implement a learning rate schedule:\n",
    "After patience runs out, reload the best model and reduce the learning rate using the `lr_fac`: `lr_new = lr_old*lr_fac` and reset patience.\n",
    "This is done `arg.refinement` times (we call restarting the training with a reduced training rate a refinement run in this context).\n",
    "To update the learning rate of the optimizer you can use the following code snippet:\n",
    "\n",
    "```\n",
    "for param_group in optimizer.param_groups:\n",
    "        param_group['lr'] = lr\n",
    "```\n",
    "\n",
    "\n",
    "Write the network model to a file, whenever a better validation loss was achieved. If `load_model` is a filename, load the provided file, if it is set to true, load the last trained model (same behaviour as in assignment 5).\n",
    "As optimizer use `torch.optim.Adam`, the default parameters, except learning rate, should be fine.\n",
    "\n",
    "**Note: don't forget to reload the best model after training finishes!**\n",
    "\n",
    "**Implement the missing code parts** in the code cell below."
   ]
  },
  {
   "cell_type": "code",
   "execution_count": 24,
   "metadata": {
    "nbgrader": {
     "grade": false,
     "grade_id": "cell-8937a00f2f650d8e",
     "locked": false,
     "schema_version": 3,
     "solution": true,
     "task": false
    }
   },
   "outputs": [],
   "source": [
    "# main training loop, start with your implementation from the last assignment and modify to accompany \n",
    "# the leraning rate scedule.\n",
    "\n",
    "def train_cnn(smoke_test=False, load_model=False, args=DEFAULT_ARGS):\n",
    "    \"\"\"\n",
    "    Run CNN training using the datasets.\n",
    "    :param smoke_test: bool, run a quick pseudo training to check if everything works\n",
    "    :param load_model: bool or string, load the last trained model (if set to True), or the model in file (string)\n",
    "    :param args: hyperparameters for training\n",
    "    :return: trained model\n",
    "    \"\"\"\n",
    "    if smoke_test:  # set hyperparameters to run a quick pseudo training...\n",
    "        max_epochs = 2\n",
    "        use_train_feats = train_feats[:2]\n",
    "        use_valid_feats = valid_feats[:2]\n",
    "        use_test_feats = test_feats[:2]\n",
    "    else:\n",
    "        max_epochs = args.max_epochs\n",
    "        use_train_feats = train_feats\n",
    "        use_valid_feats = valid_feats\n",
    "        use_test_feats = test_feats\n",
    "    \n",
    "    # 1) setup pytorch\n",
    "    # 2) create model and optimizer, use Adam\n",
    "    # 3) setup datasets and loaders for training, evaluation and testing\n",
    "    ### BEGIN SOLUTION\n",
    "    use_cuda = args.use_cuda and torch.cuda.is_available()\n",
    "    torch.manual_seed(args.seed)\n",
    "    args.device = torch.device(\"cuda\" if use_cuda else \"cpu\")\n",
    "\n",
    "    \n",
    "    model = MusicTaggerCNN().to(args.device)\n",
    "    from torch.optim import Adam\n",
    "    cur_lr = args.lr\n",
    "    optimizer = Adam(model.parameters(), lr=cur_lr)\n",
    "\n",
    "    \n",
    "    kwargs = {'num_workers': 2, 'pin_memory': True} if use_cuda else {'num_workers': 0}\n",
    "    train_loader = torch.utils.data.DataLoader(MagnaSet(use_train_feats, train_targs),\n",
    "                                               batch_size=args.batch_size, shuffle=True, **kwargs)\n",
    "    valid_loader = torch.utils.data.DataLoader(MagnaSet(use_valid_feats, valid_targs),\n",
    "                                               batch_size=args.batch_size, shuffle=False, **kwargs)\n",
    "    test_loader = torch.utils.data.DataLoader(MagnaSet(use_test_feats, test_targs),\n",
    "                                              batch_size=args.batch_size, shuffle=False, **kwargs)\n",
    "    ### END SOLUTION\n",
    "    \n",
    "    # find model filename for last run, and next free filename for model\n",
    "    model_cnt = 0\n",
    "    new_model_file = os.path.join(CNN_MODEL_NAME + str(model_cnt) + '.model')\n",
    "    last_model_file = None\n",
    "    while os.path.exists(new_model_file):\n",
    "        model_cnt += 1\n",
    "        last_model_file = new_model_file\n",
    "        new_model_file = os.path.join(CNN_MODEL_NAME + str(model_cnt) + '.model')\n",
    "    if load_model is None or not load_model:  # let's train\n",
    "        # train model for max_epochs epochs, output loss after log_intervall seconds.\n",
    "        # for each epoch run once on validation set, \n",
    "        # write model to disk if validation loss decreased\n",
    "        # if validation loss increased, check for early stopping with patience and refinements\n",
    "        # after model is trained, perform a run on test set and output loss (don't forget to reload best model!)\n",
    "        \n",
    "        ### BEGIN SOLUTION\n",
    "        best_valid_loss = 9999.  # let's init it with something really large - loss will be << 1 usually\n",
    "        cur_patience = args.patience  # we keep track of our patience here.\n",
    "        cur_refinement = args.refinement\n",
    "        print('Training CNN...')\n",
    "        start_t = get_time()\n",
    "\n",
    "        for epoch in range(1, max_epochs):\n",
    "            print('Training epoch {}'.format(epoch))\n",
    "            train_epoch_cnn(model, train_loader, optimizer, args)\n",
    "            print('\\nValidating...')\n",
    "            valid_loss = test_cnn(model, valid_loader, args)\n",
    "            # check for early stopping\n",
    "            if valid_loss < best_valid_loss:\n",
    "                if not smoke_test:\n",
    "                    torch.save(model.state_dict(), new_model_file)\n",
    "                best_valid_loss = valid_loss\n",
    "                cur_patience = args.patience\n",
    "            else:\n",
    "                if cur_patience <= 0:\n",
    "\n",
    "                    if cur_refinement > 0:\n",
    "                        cur_refinement -= 1\n",
    "                        cur_patience = args.patience\n",
    "                        model.load_state_dict(torch.load(new_model_file, map_location=args.device))\n",
    "                        cur_lr /= args.lr_fac\n",
    "                        for param_group in optimizer.param_groups:\n",
    "                            param_group['lr'] = cur_lr\n",
    "                        print(f'No improvement for %d epochs, refinement #{args.refinement - cur_refinement}, lr={cur_lr}.')\n",
    "                    else:\n",
    "                        print('Early stopping, no improvement for %d epochs...' % args.patience)\n",
    "                        break\n",
    "                else:\n",
    "                    print('No improvement, patience: %d' % cur_patience)\n",
    "                    cur_patience -= 1\n",
    "\n",
    "        if not smoke_test:\n",
    "            model.load_state_dict(torch.load(new_model_file, map_location=args.device))  # reload best model\n",
    "        print('Trainig took: {:.2f}s for {} epochs'.format(get_time() - start_t, epoch))\n",
    "\n",
    "        print('Testing...')\n",
    "        # Call test_cnn using the test_loader to calculate the loss on the test dataset\n",
    "\n",
    "        test_cnn(model, test_loader, args)\n",
    "        ### END SOLUTION\n",
    "        \n",
    "    else:  # we should just load a model...\n",
    "        if not isinstance(load_model, str) or not os.path.exists(load_model):\n",
    "            load_model = last_model_file\n",
    "        if load_model is None or not os.path.exists(load_model):\n",
    "            print('Model file not found, unable to load...')\n",
    "        else:\n",
    "            model.load_state_dict(torch.load(load_model, map_location=args.device))\n",
    "            print(\"Model file loaded: {}\".format(load_model))\n",
    "    \n",
    "    return model\n"
   ]
  },
  {
   "cell_type": "markdown",
   "metadata": {
    "nbgrader": {
     "grade": false,
     "grade_id": "cell-117f002acba1864e",
     "locked": true,
     "schema_version": 3,
     "solution": false,
     "task": false
    }
   },
   "source": [
    "Run the smoke test first, to make sure everything is ok:"
   ]
  },
  {
   "cell_type": "code",
   "execution_count": 48,
   "metadata": {
    "nbgrader": {
     "grade": true,
     "grade_id": "cell-dc3fc247439670b2",
     "locked": true,
     "points": 10,
     "schema_version": 3,
     "solution": false,
     "task": false
    },
    "scrolled": false
   },
   "outputs": [
    {
     "name": "stdout",
     "output_type": "stream",
     "text": [
      "Training CNN...\n",
      "Training epoch 1\n",
      "[0/2 (0%)]\tloss: 0.836708, took 0.30s\n",
      "\n",
      "Validating...\n",
      "Average eval loss: 13.0000\n",
      "\n",
      "Trainig took: 0.45s for 1 epochs\n",
      "Testing...\n",
      "Average eval loss: 9.0000\n",
      "\n",
      "All tests successful!\n"
     ]
    }
   ],
   "source": [
    "# tests\n",
    "\n",
    "model = train_cnn(smoke_test=True)  # just a quick run to check everything is working\n",
    "\n",
    "print('All tests successful!')"
   ]
  },
  {
   "cell_type": "markdown",
   "metadata": {
    "nbgrader": {
     "grade": false,
     "grade_id": "cell-6455c9ed1bc34764",
     "locked": true,
     "schema_version": 3,
     "solution": false,
     "task": false
    }
   },
   "source": [
    "### 3.4 Train Run\n",
    "Now that everything works, run the training for real.\n",
    "Execute the next cells to start a network training. Be aware that on JupyterHub, **a full training run will take around 24h.**\n",
    "As mentioned in the beginning of the notebook, you are free to run the notebook on CUDA enabled infrastructure e.g. on google colab, on which the training will run much faster.\n",
    "\n",
    "**ATTENTION**: For the submitted version, we only want to load the already trained model, so you have to set the switch below (SUBMISSION) to `True`! Additionally, make sure no new training is started when executing the final version before submission!!"
   ]
  },
  {
   "cell_type": "code",
   "execution_count": 28,
   "metadata": {},
   "outputs": [],
   "source": [
    "SUBMISSION = False"
   ]
  },
  {
   "cell_type": "code",
   "execution_count": 29,
   "metadata": {
    "nbgrader": {
     "grade": true,
     "grade_id": "cell-1587da57b1fc0382",
     "locked": true,
     "points": 0,
     "schema_version": 3,
     "solution": false,
     "task": false
    }
   },
   "outputs": [],
   "source": [
    "#ignore this cell...\n",
    "### BEGIN HIDDEN TESTS\n",
    "SUBMISSION = True\n",
    "### END HIDDEN TESTS"
   ]
  },
  {
   "cell_type": "code",
   "execution_count": 30,
   "metadata": {
    "scrolled": true
   },
   "outputs": [
    {
     "name": "stdout",
     "output_type": "stream",
     "text": [
      "Model file loaded: cnn_tagger_0.model\n"
     ]
    }
   ],
   "source": [
    "if not SUBMISSION:\n",
    "    model = train_cnn()\n",
    "else:\n",
    "    model = train_cnn(load_model=True)\n",
    "    # you can set a specific model file for submission, if you trained multiple models using e.g.:\n",
    "    # load_model='best_cnn_adt.model'"
   ]
  },
  {
   "cell_type": "markdown",
   "metadata": {
    "nbgrader": {
     "grade": false,
     "grade_id": "cell-055d123bc9c2fdd8",
     "locked": true,
     "schema_version": 3,
     "solution": false,
     "task": false
    }
   },
   "source": [
    "## Task 4: Inference on Test Data (5 Points)\n",
    "Now that we have a trained model, we want to use it to do audio tagging. In order to do this, we have to apply the model on a the extracted features.\n",
    "Since we are interested in calculating the area-under-curve (AUC) for the receiver operating characteristic (ROC, true-positive-rate v.s. false-positive-rate plot for different detection thresholds), return the raw class probabilities (direct sigmoid outputs), instead of the thresholded classes."
   ]
  },
  {
   "cell_type": "code",
   "execution_count": 31,
   "metadata": {
    "nbgrader": {
     "grade": false,
     "grade_id": "cell-b7e671b8b07acf8f",
     "locked": false,
     "schema_version": 3,
     "solution": true,
     "task": false
    }
   },
   "outputs": [],
   "source": [
    "def extract_tags_for_all(model, feats, args=DEFAULT_ARGS):\n",
    "    detection_list = []\n",
    "    ### BEGIN SOLUTION\n",
    "    # iterate over tracks\n",
    "    for cur_feat in feats:\n",
    "        cnn_trans = inference_cnn(model, cur_feat, args)\n",
    "        detection_list.append(cnn_trans.numpy())\n",
    "    ### END SOLUTION\n",
    "    return np.asarray(detection_list)"
   ]
  },
  {
   "cell_type": "code",
   "execution_count": 32,
   "metadata": {
    "nbgrader": {
     "grade": false,
     "grade_id": "cell-724574e6819def5a",
     "locked": true,
     "schema_version": 3,
     "solution": false,
     "task": false
    }
   },
   "outputs": [
    {
     "name": "stdout",
     "output_type": "stream",
     "text": [
      "Time used for tag estimation: 56.4 seconds.\n"
     ]
    }
   ],
   "source": [
    "t1 = get_time()\n",
    "detected_tags = extract_tags_for_all(model, test_feats)\n",
    "print(\"Time used for tag estimation: {:.1f} seconds.\".format(get_time()-t1))\n",
    "test_targs = np.asarray(test_targs)"
   ]
  },
  {
   "cell_type": "code",
   "execution_count": 33,
   "metadata": {
    "nbgrader": {
     "grade": true,
     "grade_id": "cell-23511d0abe598ede",
     "locked": true,
     "points": 3,
     "schema_version": 3,
     "solution": false,
     "task": false
    }
   },
   "outputs": [
    {
     "name": "stdout",
     "output_type": "stream",
     "text": [
      "All tests successful!\n"
     ]
    }
   ],
   "source": [
    "# tests\n",
    "\n",
    "assert len(detected_tags) == len(test_feats), \"generate detections for all test samples!!\"\n",
    "\n",
    "assert 0.0 < np.median(detected_tags) < 1.0, \"return sigmoid outputs, without applying a threshold!!\"\n",
    "\n",
    "print('All tests successful!')"
   ]
  },
  {
   "cell_type": "markdown",
   "metadata": {
    "nbgrader": {
     "grade": false,
     "grade_id": "cell-c25215e093ae1c6f",
     "locked": true,
     "schema_version": 3,
     "solution": false,
     "task": false
    }
   },
   "source": [
    "### 4.1 Plot Prediction\n",
    "Create a visual representation of the predicted class activations for an example of the test data, and compare it to the true labels."
   ]
  },
  {
   "cell_type": "code",
   "execution_count": 35,
   "metadata": {
    "nbgrader": {
     "grade": true,
     "grade_id": "cell-4b0dc3bf28370adb",
     "locked": false,
     "points": 2,
     "schema_version": 3,
     "solution": true,
     "task": false
    },
    "scrolled": false
   },
   "outputs": [
    {
     "data": {
      "image/png": "[encoded data removed]",
      "text/plain": [
       "<Figure size 1080x360 with 1 Axes>"
      ]
     },
     "metadata": {
      "needs_background": "light"
     },
     "output_type": "display_data"
    }
   ],
   "source": [
    "# visual inspection, plot an activation vector v.s. the true labels as a bar chart or similar.\n",
    "\n",
    "sample_idx = 44  # you can play around with this value :)\n",
    "\n",
    "### BEGIN SOLUTION\n",
    "sample_det = detected_tags[sample_idx]\n",
    "sample_tags = test_targs[sample_idx]\n",
    "\n",
    "plt.figure(figsize=(15, 5))\n",
    "plt.bar(np.arange(DEFAULT_NUM_CLASSES), sample_tags, alpha=0.2, color='grey')\n",
    "\n",
    "plt.bar(np.arange(DEFAULT_NUM_CLASSES), sample_det, color='lightgreen')\n",
    "plt.ylim([0, 1])\n",
    "plt.xticks(np.arange(DEFAULT_NUM_CLASSES), class_names, rotation=90)\n",
    "\n",
    "pass\n",
    "### END SOLUTION"
   ]
  },
  {
   "cell_type": "code",
   "execution_count": 36,
   "metadata": {
    "nbgrader": {
     "grade": true,
     "grade_id": "cell-d1edab0d3d5652c7",
     "locked": true,
     "points": 0,
     "schema_version": 3,
     "solution": false,
     "task": false
    }
   },
   "outputs": [
    {
     "data": {
      "image/png": "[encoded data removed]",
      "text/plain": [
       "<Figure size 1080x360 with 1 Axes>"
      ]
     },
     "metadata": {
      "needs_background": "light"
     },
     "output_type": "display_data"
    }
   ],
   "source": [
    "#ignore this cell\n",
    "### BEGIN HIDDEN TESTS\n",
    "import matplotlib.pyplot as plt\n",
    "sample_det = detected_tags[sample_idx]\n",
    "sample_tags = test_targs[sample_idx]\n",
    "\n",
    "plt.figure(figsize=(15, 5))\n",
    "plt.bar(np.arange(DEFAULT_NUM_CLASSES), sample_tags, alpha=0.2, color='grey')\n",
    "\n",
    "plt.bar(np.arange(DEFAULT_NUM_CLASSES), sample_det, color='lightgreen')\n",
    "plt.ylim([0, 1])\n",
    "plt.xticks(np.arange(DEFAULT_NUM_CLASSES), class_names, rotation=90)\n",
    "plt.title(\"REFERENCE\", size=25, color='red')\n",
    "pass\n",
    "### END HIDDEN TESTS"
   ]
  },
  {
   "cell_type": "markdown",
   "metadata": {
    "nbgrader": {
     "grade": false,
     "grade_id": "cell-9383b897d03184e3",
     "locked": true,
     "schema_version": 3,
     "solution": false,
     "task": false
    }
   },
   "source": [
    "## Task 5: Evaluation (10 Points)\n",
    "\n",
    "### 5.1 AOC of ROC\n",
    "\n",
    "Use the detections and targets of the test set to estimate the performance of the trained network using area-under-curve of the ROC (you can use the sklearn implementations). \n"
   ]
  },
  {
   "cell_type": "code",
   "execution_count": 37,
   "metadata": {
    "nbgrader": {
     "grade": false,
     "grade_id": "cell-14f8f5030f935262",
     "locked": false,
     "schema_version": 3,
     "solution": true,
     "task": false
    }
   },
   "outputs": [],
   "source": [
    "def calc_roc_auc(true_tags, detected_tags, num_classes):\n",
    "    # Calculate true positive (tpr) and false positive rates (fpr) for applicable thresholds and compute \n",
    "    # ROC curve and area under ROC curve. \n",
    "    # Since we have a multiclass setup, use micro-average evaluation: count true and false positives for all \n",
    "    # classes and all instances, and then calculate the metrics.\n",
    "    # To get an exhaustive list of thresholds that will result in different values for tpr and fpr, it is most \n",
    "    # efficient to use unique values of the detected probabilities. However, you do not have to worry about the \n",
    "    # thresholds if you use the sklearn functions.\n",
    "    \n",
    "    ### BEGIN SOLUTION\n",
    "    from sklearn.metrics import roc_curve\n",
    "    from sklearn.metrics import auc\n",
    "    fpr = dict()\n",
    "    tpr = dict()\n",
    "    roc_auc = dict()\n",
    "    for i in range(num_classes):\n",
    "        fpr[i], tpr[i], _ = roc_curve(true_tags[:, i], detected_tags[:, i])\n",
    "        roc_auc[i] = auc(fpr[i], tpr[i])\n",
    "\n",
    "    fpr[\"micro\"], tpr[\"micro\"], thresholds = roc_curve(true_tags.ravel(), detected_tags.ravel())\n",
    "    roc_auc[\"micro\"] = auc(fpr[\"micro\"], tpr[\"micro\"])\n",
    "\n",
    "    micro_fpr = fpr[\"micro\"]\n",
    "    micro_tpr = tpr[\"micro\"]\n",
    "    micro_roc_auc = roc_auc[\"micro\"]\n",
    "    ### END SOLUTION\n",
    "    # return area under curve, true positive rates, and false positive rates (we will use them for plotting)\n",
    "    return micro_roc_auc, micro_tpr, micro_fpr\n"
   ]
  },
  {
   "cell_type": "code",
   "execution_count": 38,
   "metadata": {
    "nbgrader": {
     "grade": false,
     "grade_id": "cell-93c8bd9f0f0d9a13",
     "locked": true,
     "schema_version": 3,
     "solution": false,
     "task": false
    }
   },
   "outputs": [
    {
     "name": "stdout",
     "output_type": "stream",
     "text": [
      "Final AOC-ROC score of trained model: 0.8787895025006096\n"
     ]
    }
   ],
   "source": [
    "final_score, micro_tpr, micro_fpr = calc_roc_auc(test_targs, detected_tags, len(class_names))\n",
    "print(f'Final AOC-ROC score of trained model: {final_score}')"
   ]
  },
  {
   "cell_type": "code",
   "execution_count": 39,
   "metadata": {
    "nbgrader": {
     "grade": true,
     "grade_id": "cell-bc71f08913607d11",
     "locked": true,
     "points": 4,
     "schema_version": 3,
     "solution": false,
     "task": false
    }
   },
   "outputs": [
    {
     "name": "stdout",
     "output_type": "stream",
     "text": [
      "All tests successful!\n"
     ]
    }
   ],
   "source": [
    "# tests\n",
    "\n",
    "# you should be able to achieve this AOC score\n",
    "assert final_score > 0.8\n",
    "\n",
    "### BEGIN HIDDEN TESTS\n",
    "from sklearn.metrics import roc_auc_score\n",
    "from sklearn.metrics import roc_curve\n",
    "from sklearn.metrics import auc\n",
    "tmp_fpr = dict()\n",
    "tmp_tpr = dict()\n",
    "tmp_roc_auc = dict()\n",
    "for i in range(DEFAULT_NUM_CLASSES):\n",
    "    tmp_fpr[i], tmp_tpr[i], _ = roc_curve(test_targs[:, i], detected_tags[:, i])\n",
    "    tmp_roc_auc[i] = auc(tmp_fpr[i], tmp_tpr[i])\n",
    "\n",
    "tmp_fpr[\"micro\"], tmp_tpr[\"micro\"], tmp_thresholds = roc_curve(test_targs.ravel(), detected_tags.ravel())\n",
    "tmp_roc_auc[\"micro\"] = auc(tmp_fpr[\"micro\"], tmp_tpr[\"micro\"])\n",
    "\n",
    "score = roc_auc_score(test_targs, detected_tags)\n",
    "assert score*0.85 < final_score < score*1.15\n",
    "assert score*0.95 < tmp_roc_auc[\"micro\"] < score*1.05\n",
    "### END HIDDEN TESTS\n",
    "\n",
    "print('All tests successful!')"
   ]
  },
  {
   "cell_type": "markdown",
   "metadata": {
    "nbgrader": {
     "grade": false,
     "grade_id": "cell-28ce1486130b5e5c",
     "locked": true,
     "schema_version": 3,
     "solution": false,
     "task": false
    }
   },
   "source": [
    "### 5.2 Plot ROC\n",
    "\n",
    "Plot an ROC curve for micro-average evaluation of the test detections. The values for the test detections should have been saved in `final_score`, `micro_tpr`, and `micro_fpr` in the previous cells."
   ]
  },
  {
   "cell_type": "code",
   "execution_count": 40,
   "metadata": {
    "nbgrader": {
     "grade": true,
     "grade_id": "cell-a8349ff3553e8bce",
     "locked": false,
     "points": 3,
     "schema_version": 3,
     "solution": true,
     "task": false
    }
   },
   "outputs": [
    {
     "data": {
      "image/png": "[encoded data removed]",
      "text/plain": [
       "<Figure size 432x288 with 1 Axes>"
      ]
     },
     "metadata": {
      "needs_background": "light"
     },
     "output_type": "display_data"
    }
   ],
   "source": [
    "### BEGIN SOLUTION\n",
    "def plot_roc_for_class(fpr, tpr, roc_auc):\n",
    "    import matplotlib.pyplot as plt\n",
    "    plt.figure()\n",
    "    lw = 2\n",
    "    plt.plot(fpr, tpr, color='darkorange',\n",
    "             lw=lw, label=f'ROC curve (area = {roc_auc:0.2f}')\n",
    "    plt.plot([0, 1], [0, 1], color='navy', lw=lw, linestyle='--')\n",
    "    plt.xlim([0.0, 1.0])\n",
    "    plt.ylim([0.0, 1.05])\n",
    "    plt.xlabel('False Positive Rate')\n",
    "    plt.ylabel('True Positive Rate')\n",
    "    plt.title(f'Receiver Operating Characteristic')\n",
    "    plt.legend(loc=\"lower right\")\n",
    "    plt.show()\n",
    "\n",
    "plot_roc_for_class(micro_fpr, micro_tpr, final_score)\n",
    "### END SOLUTION"
   ]
  },
  {
   "cell_type": "code",
   "execution_count": 41,
   "metadata": {
    "nbgrader": {
     "grade": true,
     "grade_id": "cell-b7abcf1de5115831",
     "locked": true,
     "points": 0,
     "schema_version": 3,
     "solution": false,
     "task": false
    }
   },
   "outputs": [
    {
     "data": {
      "image/png": "[encoded data removed]",
      "text/plain": [
       "<Figure size 432x288 with 1 Axes>"
      ]
     },
     "metadata": {
      "needs_background": "light"
     },
     "output_type": "display_data"
    }
   ],
   "source": [
    "# ingore this cell\n",
    "### BEGIN HIDDEN TESTS\n",
    "import matplotlib.pyplot as plt\n",
    "plt.figure()\n",
    "lw = 3\n",
    "plt.plot(tmp_fpr[\"micro\"], tmp_tpr[\"micro\"], color='orange',\n",
    "         lw=lw, label=f'ROC curve (area = {tmp_roc_auc[\"micro\"]:0.2f}')\n",
    "plt.plot([0, 1], [0, 1], color='black', lw=lw, linestyle=':')\n",
    "plt.xlim([0.0, 1.0])\n",
    "plt.ylim([0.0, 1.05])\n",
    "plt.xlabel('False Positive Rate', size=15)\n",
    "plt.ylabel('True Positive Rate', size=15)\n",
    "plt.title(f'Receiver Operating Characteristic')\n",
    "plt.legend(loc=\"lower right\")\n",
    "plt.title('REFERENCE', size=30, color='red')\n",
    "plt.show()\n",
    "### END HIDDEN TESTS"
   ]
  },
  {
   "cell_type": "markdown",
   "metadata": {
    "nbgrader": {
     "grade": false,
     "grade_id": "cell-7183899db83db443",
     "locked": true,
     "schema_version": 3,
     "solution": false,
     "task": false
    }
   },
   "source": [
    "### 5.3 Conclusion\n",
    "Compare your results to the numbers reported by Choi et al. \\[2016\\] and comment on your main findings."
   ]
  },
  {
   "cell_type": "markdown",
   "metadata": {
    "nbgrader": {
     "grade": true,
     "grade_id": "cell-d4763292d66c5532",
     "locked": false,
     "points": 3,
     "schema_version": 3,
     "solution": true,
     "task": false
    }
   },
   "source": [
    "YOUR ANSWER HERE"
   ]
  }
 ],
 "metadata": {
  "celltoolbar": "Create Assignment",
  "kernelspec": {
   "display_name": "Python 3 (ipykernel)",
   "language": "python",
   "name": "python3"
  },
  "language_info": {
   "codemirror_mode": {
    "name": "ipython",
    "version": 3
   },
   "file_extension": ".py",
   "mimetype": "text/x-python",
   "name": "python",
   "nbconvert_exporter": "python",
   "pygments_lexer": "ipython3",
   "version": "3.9.7"
  }
 },
 "nbformat": 4,
 "nbformat_minor": 4
}
