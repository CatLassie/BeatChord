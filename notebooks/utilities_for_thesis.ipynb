{
 "cells": [
  {
   "cell_type": "markdown",
   "metadata": {},
   "source": [
    "# Utilities for Thesis\n",
    "### Figure generators and such"
   ]
  },
  {
   "cell_type": "markdown",
   "metadata": {},
   "source": [
    "# Generic Imports"
   ]
  },
  {
   "cell_type": "code",
   "execution_count": null,
   "metadata": {},
   "outputs": [],
   "source": [
    "import numpy as np\n",
    "import madmom\n",
    "import os\n",
    "from scipy.io import wavfile\n",
    "import matplotlib.pyplot as plt"
   ]
  },
  {
   "cell_type": "markdown",
   "metadata": {},
   "source": [
    "# Initialization"
   ]
  },
  {
   "cell_type": "code",
   "execution_count": null,
   "metadata": {},
   "outputs": [],
   "source": [
    "# Load auido file\n",
    "\n",
    "audio_len = 5\n",
    "file_name = 'zztop_badtothebone_mono_5sec.wav'\n",
    "audio_path_relative = '../../audio_for_thesis'\n",
    "\n",
    "audio_path = os.path.join(os.getcwd(), audio_path_relative)\n",
    "audio_path_absolute = os.path.abspath(audio_path)\n",
    "if not os.path.exists(audio_path_absolute):\n",
    "    raise Exception(\"Audio file path doesnt exist:\", audio_path_absolute)\n",
    "    \n",
    "audio_path_full = os.path.join(audio_path_absolute, file_name)\n",
    "if not os.path.exists(audio_path_full):\n",
    "    raise Exception(\"Audio file doesnt exist:\", audio_path_full)\n",
    "\n",
    "fs, audio_buffer = wavfile.read(audio_path_full)\n",
    "\n",
    "assert fs == 44100, 'Sampling rate should be 44100 Hz'\n",
    "assert len(audio_buffer.shape) == 1, 'Audio should be mono'\n",
    "assert len(audio_buffer) == audio_len * fs, 'Audio should be exactly %d seconds long' %(audio_len)\n",
    "\n",
    "print(audio_path_full)\n",
    "print('audio buffer shape:', audio_buffer.shape, 'sampling rate:', fs)"
   ]
  },
  {
   "cell_type": "markdown",
   "metadata": {},
   "source": [
    "# Figures"
   ]
  },
  {
   "cell_type": "markdown",
   "metadata": {},
   "source": [
    "### Time Domain Audio Signal Representation"
   ]
  },
  {
   "cell_type": "code",
   "execution_count": null,
   "metadata": {},
   "outputs": [],
   "source": [
    "plt.plot(audio_buffer/audio_buffer.max())\n",
    "audio_tics = np.arange(0, len(audio_buffer), fs/2)\n",
    "plt.xticks(audio_tics, [\"{:.1f}s\".format(tic/fs) for tic in audio_tics], rotation='45')\n",
    "plt.xlim([0, len(audio_buffer)]);"
   ]
  },
  {
   "cell_type": "markdown",
   "metadata": {},
   "source": [
    "### Frequency Domain Audio Signal Representation"
   ]
  },
  {
   "cell_type": "code",
   "execution_count": null,
   "metadata": {},
   "outputs": [],
   "source": []
  },
  {
   "cell_type": "markdown",
   "metadata": {},
   "source": [
    "### Time/Frequency Domain Audio Signal Representation"
   ]
  },
  {
   "cell_type": "markdown",
   "metadata": {},
   "source": [
    "### Mel Scale"
   ]
  },
  {
   "cell_type": "markdown",
   "metadata": {},
   "source": [
    "### Decibel Scale"
   ]
  }
 ],
 "metadata": {
  "kernelspec": {
   "display_name": "Python 3",
   "language": "python",
   "name": "python3"
  },
  "language_info": {
   "codemirror_mode": {
    "name": "ipython",
    "version": 3
   },
   "file_extension": ".py",
   "mimetype": "text/x-python",
   "name": "python",
   "nbconvert_exporter": "python",
   "pygments_lexer": "ipython3",
   "version": "3.7.1"
  }
 },
 "nbformat": 4,
 "nbformat_minor": 2
}
