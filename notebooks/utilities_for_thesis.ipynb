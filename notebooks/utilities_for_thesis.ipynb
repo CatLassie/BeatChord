{
 "cells": [
  {
   "cell_type": "markdown",
   "metadata": {},
   "source": [
    "# Utilities for Thesis\n",
    "### Figure generators and such"
   ]
  },
  {
   "cell_type": "markdown",
   "metadata": {},
   "source": [
    "# Generic Imports"
   ]
  },
  {
   "cell_type": "code",
   "execution_count": null,
   "metadata": {},
   "outputs": [],
   "source": [
    "import os\n",
    "import math\n",
    "import numpy as np\n",
    "import madmom\n",
    "from scipy.io import wavfile\n",
    "import matplotlib.pyplot as plt"
   ]
  },
  {
   "cell_type": "markdown",
   "metadata": {},
   "source": [
    "# Initialization"
   ]
  },
  {
   "cell_type": "markdown",
   "metadata": {},
   "source": [
    "### Debugger"
   ]
  },
  {
   "cell_type": "code",
   "execution_count": null,
   "metadata": {},
   "outputs": [],
   "source": [
    "debug = True\n",
    "\n",
    "class Debugger:\n",
    "    def __init__(self, debug):\n",
    "        self.debug = debug\n",
    "        \n",
    "    def log(self, *msg):\n",
    "        if(self.debug):\n",
    "            print(msg)\n",
    "            \n",
    "dbg = Debugger(debug)\n",
    "dbg.log('debugger initialized')"
   ]
  },
  {
   "cell_type": "markdown",
   "metadata": {},
   "source": [
    "### Load Audio"
   ]
  },
  {
   "cell_type": "code",
   "execution_count": null,
   "metadata": {},
   "outputs": [],
   "source": [
    "audio_len = 5\n",
    "file_name = 'zztop_badtothebone_mono_5sec.wav'\n",
    "audio_path_relative = '../../audio_for_thesis'\n",
    "\n",
    "audio_path = os.path.join(os.getcwd(), audio_path_relative)\n",
    "audio_path_absolute = os.path.abspath(audio_path)\n",
    "if not os.path.exists(audio_path_absolute):\n",
    "    raise Exception(\"Audio file path doesnt exist:\", audio_path_absolute)\n",
    "    \n",
    "audio_path_full = os.path.join(audio_path_absolute, file_name)\n",
    "if not os.path.exists(audio_path_full):\n",
    "    raise Exception(\"Audio file doesnt exist:\", audio_path_full)\n",
    "\n",
    "fs, audio_buffer = wavfile.read(audio_path_full)\n",
    "\n",
    "assert fs == 44100, 'Sampling rate should be 44100 Hz'\n",
    "assert len(audio_buffer.shape) == 1, 'Audio should be mono'\n",
    "assert len(audio_buffer) == audio_len * fs, 'Audio should be exactly %d seconds long' %(audio_len)\n",
    "\n",
    "dbg.log(audio_path_full)\n",
    "dbg.log('audio buffer shape:', audio_buffer.shape, 'sampling rate:', fs)"
   ]
  },
  {
   "cell_type": "markdown",
   "metadata": {},
   "source": [
    "# Figures"
   ]
  },
  {
   "cell_type": "markdown",
   "metadata": {},
   "source": [
    "### Time Domain Audio Signal Representation"
   ]
  },
  {
   "cell_type": "code",
   "execution_count": null,
   "metadata": {},
   "outputs": [],
   "source": [
    "plt.plot(audio_buffer/audio_buffer.max())\n",
    "audio_tics = np.arange(0, len(audio_buffer), fs/2)\n",
    "plt.xticks(audio_tics, [\"{:.1f}\".format(tic/fs) for tic in audio_tics], rotation='45')\n",
    "plt.xlim([0, len(audio_buffer)])\n",
    "plt.xlabel('Time (Seconds)')\n",
    "plt.ylabel('Amplitude (Normalized)');"
   ]
  },
  {
   "cell_type": "markdown",
   "metadata": {},
   "source": [
    "### Frequency Domain Audio Signal Representation"
   ]
  },
  {
   "cell_type": "code",
   "execution_count": null,
   "metadata": {},
   "outputs": [],
   "source": [
    "'''\n",
    "# Original:\n",
    "\n",
    "frame_size = 2048\n",
    "start_frame = 2*fs\n",
    "\n",
    "frame = audio_buffer[start_frame:start_frame+frame_size]\n",
    "spectrum = np.fft.fft(frame)\n",
    "\n",
    "abs_spec_size = int(frame_size/2+1)\n",
    "abs_spec = np.abs(spectrum)[:abs_spec_size]\n",
    "\n",
    "fft_freqs = np.fft.fftfreq(frame_size)*fs\n",
    "freq_ticks = np.arange(0, abs_spec_size, 128, dtype=int)\n",
    "freq_tick_labels = [\"{:.1f}Hz\".format(np.abs(fft_freqs[idx])) for idx in freq_ticks]\n",
    "print(fft_freqs[1024])\n",
    "\n",
    "\n",
    "plt.plot(abs_spec/abs_spec.max())\n",
    "plt.xticks(freq_ticks, freq_tick_labels, rotation=\"45\");\n",
    "'''\n",
    "\n",
    "frame_size = audio_len * fs # 220500\n",
    "\n",
    "frame = audio_buffer[0:frame_size] # take whole 5sec clip as frame\n",
    "spectrum = np.fft.fft(frame) # fft resolution is same as size of audio_buffer (220500)\n",
    "\n",
    "abs_spec_size = int(frame_size/2+1) # half cause mirrored (110251)\n",
    "abs_spec = np.abs(spectrum)[:abs_spec_size] # absolute values of half\n",
    "\n",
    "# frequency bin centers [0...0.5,-0.5...-0]\n",
    "# result in requency values when multiplied by sampling rate (cause same as resolution) (same as specifying d=1/sampling_rate)\n",
    "# with 220500 values\n",
    "# will only be used until index half, cause they are then mirrored in the negative\n",
    "fft_freqs = np.fft.fftfreq(frame_size)*fs\n",
    "dbg.log(fft_freqs[110250])\n",
    "\n",
    "# indices to be used, only go until 110251, cause of mirroring\n",
    "# 110251 / 7 = 15750.14, round down to get 8 indices instead of 7\n",
    "freq_ticks = np.arange(0, abs_spec_size, 15750, dtype=int)\n",
    "# labels (with Hz as value) for the corresponding indices\n",
    "freq_tick_labels = [\"{:.1f}\".format(np.abs(fft_freqs[idx])) for idx in freq_ticks]\n",
    "\n",
    "plt.plot(abs_spec/abs_spec.max())\n",
    "plt.xticks(freq_ticks, freq_tick_labels, rotation=\"45\")\n",
    "\n",
    "plt.xlabel('Frequency (Hz)')\n",
    "plt.ylabel('Magnitude / Power (Normalized)')\n",
    "\n",
    "dbg.log('spectrum resolution:', abs_spec.shape)\n",
    "dbg.log('fft frequencies:', fft_freqs.shape)\n",
    "dbg.log('indices to be used for freq. values', freq_ticks)\n",
    "dbg.log('frequencies at above indices taken from fft frequencies', freq_tick_labels)"
   ]
  },
  {
   "cell_type": "markdown",
   "metadata": {},
   "source": [
    "### Hann Window"
   ]
  },
  {
   "cell_type": "code",
   "execution_count": null,
   "metadata": {},
   "outputs": [],
   "source": []
  },
  {
   "cell_type": "markdown",
   "metadata": {},
   "source": [
    "### Time/Frequency Domain Audio Signal Representation"
   ]
  },
  {
   "cell_type": "markdown",
   "metadata": {},
   "source": [
    "### Mel Scale"
   ]
  },
  {
   "cell_type": "markdown",
   "metadata": {},
   "source": [
    "### Decibel Scale"
   ]
  }
 ],
 "metadata": {
  "kernelspec": {
   "display_name": "Python 3",
   "language": "python",
   "name": "python3"
  },
  "language_info": {
   "codemirror_mode": {
    "name": "ipython",
    "version": 3
   },
   "file_extension": ".py",
   "mimetype": "text/x-python",
   "name": "python",
   "nbconvert_exporter": "python",
   "pygments_lexer": "ipython3",
   "version": "3.7.1"
  }
 },
 "nbformat": 4,
 "nbformat_minor": 2
}
