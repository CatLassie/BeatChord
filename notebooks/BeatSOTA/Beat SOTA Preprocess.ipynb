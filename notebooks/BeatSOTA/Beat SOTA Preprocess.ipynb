{
 "cells": [
  {
   "cell_type": "markdown",
   "metadata": {},
   "source": [
    "# Beat SOTA Preprocess"
   ]
  },
  {
   "cell_type": "code",
   "execution_count": null,
   "metadata": {},
   "outputs": [],
   "source": [
    "import madmom\n",
    "from madmom.utils import search_files, match_file\n",
    "\n",
    "import librosa\n",
    "import librosa.display"
   ]
  },
  {
   "cell_type": "code",
   "execution_count": null,
   "metadata": {},
   "outputs": [],
   "source": [
    "audio_paths = search_files('../../../datasets/beat_boeck', '.flac')\n",
    "# anno_paths = search_files('../../../datasets/beat_boeck', '.beats')"
   ]
  },
  {
   "cell_type": "code",
   "execution_count": null,
   "metadata": {},
   "outputs": [],
   "source": [
    "FPS = 100 # frames / second\n",
    "SR = 44100 # samping rate\n",
    "FRAME_SIZE = 2048 # number of samples per frame\n",
    "HOP_SIZE = int(SR / FPS) # hop size = 10ms or 441 samples\n",
    "# TODO: Mel bins should be from 30 to 17000 Hz !!!\n",
    "NUM_BANDS = 81 # number of mel bins"
   ]
  },
  {
   "cell_type": "code",
   "execution_count": null,
   "metadata": {},
   "outputs": [],
   "source": [
    "def pre_process(filename, **kwargs):\n",
    "    signal, _ = librosa.load(filename, sr=SR)\n",
    "    mel_spec = librosa.feature.melspectrogram(y=signal, sr=SR, n_fft=FRAME_SIZE, hop_length=HOP_SIZE, n_mels=NUM_BANDS)\n",
    "    db_mel_spec = librosa.power_to_db(mel_spec)\n",
    "    return db_mel_spec"
   ]
  },
  {
   "cell_type": "code",
   "execution_count": null,
   "metadata": {},
   "outputs": [],
   "source": [
    "spectrograms = []\n",
    "\n",
    "for path in audio_paths:\n",
    "    spec = pre_process(path)\n",
    "    spectrograms.append(spec)\n",
    "    # TODO: SAVE SPECS TO FILE! np.save / np.load (check ex.3!)"
   ]
  },
  {
   "cell_type": "code",
   "execution_count": null,
   "metadata": {},
   "outputs": [],
   "source": [
    "print(spectrograms[0])"
   ]
  },
  {
   "cell_type": "code",
   "execution_count": null,
   "metadata": {},
   "outputs": [],
   "source": [
    "librosa.display.specshow(spectrograms[0], x_axis='time', y_axis='mel')"
   ]
  }
 ],
 "metadata": {
  "kernelspec": {
   "display_name": "Python 3",
   "language": "python",
   "name": "python3"
  },
  "language_info": {
   "codemirror_mode": {
    "name": "ipython",
    "version": 3
   },
   "file_extension": ".py",
   "mimetype": "text/x-python",
   "name": "python",
   "nbconvert_exporter": "python",
   "pygments_lexer": "ipython3",
   "version": "3.7.1"
  }
 },
 "nbformat": 4,
 "nbformat_minor": 2
}
