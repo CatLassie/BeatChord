{
 "cells": [
  {
   "cell_type": "markdown",
   "metadata": {},
   "source": [
    "# BEAT UTILITIES"
   ]
  },
  {
   "cell_type": "code",
   "execution_count": null,
   "metadata": {},
   "outputs": [],
   "source": [
    "# REMOVE NON BEAT FILES FROM IAMA DATASET\n",
    "\n",
    "import os\n",
    "\n",
    "path = '../../../datasets/beat_boeck'\n",
    "\n",
    "# remove onsets annotation files\n",
    "count = 0\n",
    "with os.scandir(path) as listOfEntries:\n",
    "    for entry in listOfEntries:\n",
    "        if entry.is_file() and entry.name.endswith('.onsets'):\n",
    "            print(entry.name)\n",
    "            count = count + 1\n",
    "            #os.remove(entry)\n",
    "    print(count)\n",
    "\n",
    "# remove bpm annotation files\n",
    "count = 0\n",
    "with os.scandir(path) as listOfEntries:\n",
    "    for entry in listOfEntries:\n",
    "        if entry.is_file() and entry.name.endswith('.bpm'):\n",
    "            print(entry.name)\n",
    "            count = count + 1\n",
    "            #os.remove(entry)\n",
    "    print(count)\n",
    "\n",
    "# remove flac files that have no beats annotations\n",
    "count = 0\n",
    "with os.scandir(path) as listOfEntries:\n",
    "    for entry in listOfEntries:\n",
    "        if entry.is_file() and entry.name.endswith('.flac'):\n",
    "            file_name = entry.name.split('.flac')[0] + '.beats'\n",
    "            beat_anno_path = os.path.join(path, file_name)\n",
    "            if not os.path.isfile(beat_anno_path):\n",
    "                print(entry.name)\n",
    "                count = count + 1\n",
    "                # os.remove(entry)\n",
    "    print(count)\n",
    "    \n",
    "# list all remaining flacs\n",
    "count = 0\n",
    "with os.scandir(path) as listOfEntries:\n",
    "    for entry in listOfEntries:\n",
    "        if entry.is_file() and entry.name.endswith('.flac'):\n",
    "            entry_path = os.path.join(path, entry.name)\n",
    "            print(entry_path)\n",
    "            count = count + 1\n",
    "    print(count)"
   ]
  }
 ],
 "metadata": {
  "kernelspec": {
   "display_name": "Python 3",
   "language": "python",
   "name": "python3"
  },
  "language_info": {
   "codemirror_mode": {
    "name": "ipython",
    "version": 3
   },
   "file_extension": ".py",
   "mimetype": "text/x-python",
   "name": "python",
   "nbconvert_exporter": "python",
   "pygments_lexer": "ipython3",
   "version": "3.7.1"
  }
 },
 "nbformat": 4,
 "nbformat_minor": 2
}
